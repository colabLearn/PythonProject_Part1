{
 "cells": [
  {
   "cell_type": "markdown",
   "id": "05e3a0bf-343b-4f69-9736-ee2ed4a42f2a",
   "metadata": {},
   "source": [
    "### List comprehension is a powerful way to creat"
   ]
  },
  {
   "cell_type": "code",
   "execution_count": 82,
   "id": "ffdc0b5d-2321-4cce-88e4-8aad48939248",
   "metadata": {
    "tags": []
   },
   "outputs": [],
   "source": [
    "aList = [i for i in range(5)] # 0, 1, 2, 3, 4"
   ]
  },
  {
   "cell_type": "code",
   "execution_count": 83,
   "id": "daa40170-b756-4ae9-b535-9ec0699e6f9d",
   "metadata": {
    "tags": []
   },
   "outputs": [
    {
     "name": "stdout",
     "output_type": "stream",
     "text": [
      "[0, 1, 2, 3, 4]\n"
     ]
    }
   ],
   "source": [
    "print(aList)"
   ]
  },
  {
   "cell_type": "code",
   "execution_count": 84,
   "id": "c35c8828-2a2f-4f80-a498-635a340d70bd",
   "metadata": {
    "tags": []
   },
   "outputs": [],
   "source": [
    "bList = [s**2 for s in range(10)]"
   ]
  },
  {
   "cell_type": "code",
   "execution_count": 85,
   "id": "1458a95c-bf12-4662-8f40-8f1d7288915f",
   "metadata": {
    "tags": []
   },
   "outputs": [
    {
     "name": "stdout",
     "output_type": "stream",
     "text": [
      "[0, 1, 4, 9, 16, 25, 36, 49, 64, 81]\n"
     ]
    }
   ],
   "source": [
    "print(bList)"
   ]
  },
  {
   "cell_type": "code",
   "execution_count": 86,
   "id": "77d60507-d698-4f24-b1c7-7368fd3f700a",
   "metadata": {
    "tags": []
   },
   "outputs": [],
   "source": [
    "xList = [1,14,5,9,12]"
   ]
  },
  {
   "cell_type": "code",
   "execution_count": 87,
   "id": "a7457650-9bf9-45c1-bc80-cff5344678d9",
   "metadata": {
    "tags": []
   },
   "outputs": [],
   "source": [
    "cList = [l*10 for l in xList]"
   ]
  },
  {
   "cell_type": "code",
   "execution_count": 88,
   "id": "222b343f-29f7-4560-896f-e40f42220c0e",
   "metadata": {
    "tags": []
   },
   "outputs": [
    {
     "name": "stdout",
     "output_type": "stream",
     "text": [
      "[10, 140, 50, 90, 120]\n"
     ]
    }
   ],
   "source": [
    "print(cList)"
   ]
  },
  {
   "cell_type": "code",
   "execution_count": 89,
   "id": "78968538-477a-4f5f-aa72-afccfb59373b",
   "metadata": {
    "tags": []
   },
   "outputs": [],
   "source": [
    "strn = \"Hello\"\n",
    "dList = [l*2 for l in strn]"
   ]
  },
  {
   "cell_type": "code",
   "execution_count": 90,
   "id": "669303a6-c29a-45ad-b7ad-105b18c18d21",
   "metadata": {
    "tags": []
   },
   "outputs": [
    {
     "name": "stdout",
     "output_type": "stream",
     "text": [
      "['HH', 'ee', 'll', 'll', 'oo']\n"
     ]
    }
   ],
   "source": [
    "print(dList)"
   ]
  },
  {
   "cell_type": "code",
   "execution_count": 91,
   "id": "2c48f08a-3027-4d45-8a8d-95e90e9dd73d",
   "metadata": {
    "tags": []
   },
   "outputs": [],
   "source": [
    "strn2 = ['one', 'two', 'three', 'four', 'five', 'six']\n",
    "eList = [w[0] for w in strn2]"
   ]
  },
  {
   "cell_type": "code",
   "execution_count": 92,
   "id": "32ff41a8-bf89-40df-b240-9b03cb723705",
   "metadata": {
    "tags": []
   },
   "outputs": [
    {
     "name": "stdout",
     "output_type": "stream",
     "text": [
      "['o', 't', 't', 'f', 'f', 's']\n"
     ]
    }
   ],
   "source": [
    "print(eList)"
   ]
  },
  {
   "cell_type": "code",
   "execution_count": 93,
   "id": "1e506e9b-7620-4c9e-bfaa-af15beea3ff0",
   "metadata": {
    "tags": []
   },
   "outputs": [],
   "source": [
    "fList = [w[0] for w in strn2 if len(w)==3]"
   ]
  },
  {
   "cell_type": "code",
   "execution_count": 94,
   "id": "b0088b40-81b0-4326-9924-747f325dd683",
   "metadata": {
    "tags": []
   },
   "outputs": [
    {
     "name": "stdout",
     "output_type": "stream",
     "text": [
      "['o', 't', 's']\n"
     ]
    }
   ],
   "source": [
    "print(fList)"
   ]
  },
  {
   "cell_type": "code",
   "execution_count": 95,
   "id": "95f9f729-57b5-4c98-b5bb-fd237f4aed30",
   "metadata": {
    "tags": []
   },
   "outputs": [],
   "source": [
    "xList = [1,14,5,9,12]\n",
    "gList = [n for n in xList if n<10]"
   ]
  },
  {
   "cell_type": "code",
   "execution_count": 96,
   "id": "ac109a67-8272-4a11-9258-83d1d8571946",
   "metadata": {
    "tags": []
   },
   "outputs": [
    {
     "name": "stdout",
     "output_type": "stream",
     "text": [
      "[1, 5, 9]\n"
     ]
    }
   ],
   "source": [
    "print(gList)"
   ]
  },
  {
   "cell_type": "code",
   "execution_count": 97,
   "id": "a03a8a90-e2be-4a2f-82f2-802ddd9a2135",
   "metadata": {
    "tags": []
   },
   "outputs": [],
   "source": [
    "hList = [[l,k] for l in range(2) for k in range(2)]"
   ]
  },
  {
   "cell_type": "code",
   "execution_count": 98,
   "id": "a99f8e26-6d39-4e16-a082-a78d721d6e78",
   "metadata": {
    "tags": []
   },
   "outputs": [
    {
     "name": "stdout",
     "output_type": "stream",
     "text": [
      "[[0, 0], [0, 1], [1, 0], [1, 1]]\n"
     ]
    }
   ],
   "source": [
    "print(hList)"
   ]
  },
  {
   "cell_type": "code",
   "execution_count": 99,
   "id": "d742a9aa-1213-440b-a394-f96645b80db1",
   "metadata": {
    "tags": []
   },
   "outputs": [],
   "source": [
    "iList = []\n",
    "for l in range(2):\n",
    "    for k in range(2):\n",
    "        temp = [l,k]\n",
    "        iList.append(temp)"
   ]
  },
  {
   "cell_type": "code",
   "execution_count": 100,
   "id": "812a730f-75ef-48eb-8246-153608d585d5",
   "metadata": {
    "tags": []
   },
   "outputs": [
    {
     "name": "stdout",
     "output_type": "stream",
     "text": [
      "[[0, 0], [0, 1], [1, 0], [1, 1]]\n"
     ]
    }
   ],
   "source": [
    "print(iList)"
   ]
  },
  {
   "cell_type": "code",
   "execution_count": 102,
   "id": "c200af34-0770-4da9-813f-384bf0cbf6ed",
   "metadata": {
    "tags": []
   },
   "outputs": [],
   "source": [
    "# Write a program that generate a list of 50 random numbers between 1 and 100\n",
    "from random import randint\n",
    "\n",
    "randList = [randint(1,100) for i in range(50)]"
   ]
  },
  {
   "cell_type": "code",
   "execution_count": 103,
   "id": "f059f429-427f-4790-a1d9-a5086fe1abdd",
   "metadata": {
    "tags": []
   },
   "outputs": [
    {
     "name": "stdout",
     "output_type": "stream",
     "text": [
      "[42, 80, 52, 47, 8, 29, 38, 17, 43, 64, 97, 95, 99, 76, 4, 21, 42, 5, 20, 12, 28, 58, 87, 85, 89, 62, 27, 30, 2, 90, 24, 28, 75, 26, 70, 28, 21, 96, 12, 86, 61, 38, 51, 76, 14, 2, 11, 25, 99, 52]\n"
     ]
    }
   ],
   "source": [
    "print(randList)"
   ]
  },
  {
   "cell_type": "markdown",
   "id": "171a06b5-bb3a-431b-98c2-a42ef4540f71",
   "metadata": {},
   "source": [
    "### Two dimensional list"
   ]
  },
  {
   "cell_type": "code",
   "execution_count": 104,
   "id": "dcb5c61a-0125-4556-bd10-093d8696a229",
   "metadata": {
    "tags": []
   },
   "outputs": [],
   "source": [
    "twoDimList = [[1,2,3], [3,4,5], [6,7,8]] "
   ]
  },
  {
   "cell_type": "code",
   "execution_count": 105,
   "id": "58e4f79f-8204-4c16-9e16-f388a5ba1f43",
   "metadata": {
    "tags": []
   },
   "outputs": [
    {
     "name": "stdout",
     "output_type": "stream",
     "text": [
      "[[1, 2, 3], [3, 4, 5], [6, 7, 8]]\n"
     ]
    }
   ],
   "source": [
    "print(twoDimList)"
   ]
  },
  {
   "cell_type": "code",
   "execution_count": 106,
   "id": "ebffe0e8-3e9d-4c1c-ae4f-d2b7fede992c",
   "metadata": {
    "tags": []
   },
   "outputs": [
    {
     "name": "stdout",
     "output_type": "stream",
     "text": [
      "1 2 3 \n",
      "3 4 5 \n",
      "6 7 8 \n"
     ]
    }
   ],
   "source": [
    "for r in range(len(twoDimList)):\n",
    "    for c in range(len(twoDimList[r])):\n",
    "        print(twoDimList[r][c], end=\" \")\n",
    "    print()"
   ]
  },
  {
   "cell_type": "code",
   "execution_count": 110,
   "id": "afbc5760-4e64-41ce-b92c-a3c14ad9d553",
   "metadata": {
    "tags": []
   },
   "outputs": [
    {
     "data": {
      "text/plain": [
       "1"
      ]
     },
     "execution_count": 110,
     "metadata": {},
     "output_type": "execute_result"
    }
   ],
   "source": [
    "twoDimList[0][0]"
   ]
  },
  {
   "cell_type": "code",
   "execution_count": 113,
   "id": "1e7e86a0-7d09-4e70-acf2-7be9b7bc7a41",
   "metadata": {
    "tags": []
   },
   "outputs": [],
   "source": [
    "twoDim2 = [[2,3,4], [4,5,6], [7,8,9], [1, 1, 1]]"
   ]
  },
  {
   "cell_type": "code",
   "execution_count": 114,
   "id": "47d67bea-96b7-468f-89f3-82724bee7c09",
   "metadata": {
    "tags": []
   },
   "outputs": [
    {
     "name": "stdout",
     "output_type": "stream",
     "text": [
      "2 3 4 \n",
      "4 5 6 \n",
      "7 8 9 \n",
      "1 1 1 \n"
     ]
    }
   ],
   "source": [
    "for r in range(len(twoDim2)):\n",
    "    for c in range(len(twoDim2[r])):\n",
    "        print(twoDim2[r][c], end=\" \")\n",
    "    print()"
   ]
  },
  {
   "cell_type": "code",
   "execution_count": 115,
   "id": "cdd6dff5-2c9b-4f3a-9944-328914197569",
   "metadata": {
    "tags": []
   },
   "outputs": [],
   "source": [
    "twoDimList = [[1,2,3], [3,4,5], [6,7,8]] "
   ]
  },
  {
   "cell_type": "code",
   "execution_count": 117,
   "id": "3534f6d0-90bf-4704-b3f6-397e78250052",
   "metadata": {
    "tags": []
   },
   "outputs": [
    {
     "name": "stdout",
     "output_type": "stream",
     "text": [
      "4\n"
     ]
    }
   ],
   "source": [
    "## Let's count the even numbers in our two Dim list\n",
    "count = 0\n",
    "for r in range(len(twoDimList)):\n",
    "    for c in range(len(twoDimList[r])):\n",
    "       \n",
    "        if twoDimList[r][c]%2==0:\n",
    "            count +=1\n",
    "print(count)    "
   ]
  },
  {
   "cell_type": "code",
   "execution_count": 118,
   "id": "b483795c-6fbd-4a88-be5c-cafe6b1d2fc9",
   "metadata": {
    "tags": []
   },
   "outputs": [
    {
     "name": "stdout",
     "output_type": "stream",
     "text": [
      "[ ] [ ] [ ] [ ] [ ] [ ] [ ] [ ] [ ] [ ] \n",
      "[ ] [ ] [ ] [ ] [ ] [ ] [ ] [ ] [ ] [ ] \n",
      "[ ] [ ] [ ] [ ] [ ] [ ] [ ] [ ] [ ] [ ] \n",
      "[ ] [ ] [ ] [ ] [ ] [ ] [ ] [ ] [ ] [ ] \n",
      "[ ] [ ] [ ] [ ] [ ] [ ] [ ] [ ] [ ] [ ] \n",
      "[ ] [ ] [ ] [ ] [ ] [ ] [ ] [ ] [ ] [ ] \n",
      "[ ] [ ] [ ] [ ] [ ] [ ] [ ] [ ] [ ] [ ] \n",
      "[ ] [ ] [ ] [ ] [ ] [ ] [ ] [ ] [ ] [ ] \n",
      "[ ] [ ] [ ] [ ] [ ] [ ] [ ] [ ] [ ] [ ] \n",
      "[ ] [ ] [ ] [ ] [ ] [ ] [ ] [ ] [ ] [ ] \n"
     ]
    }
   ],
   "source": [
    "for r in range(10):\n",
    "    for c in range(10):\n",
    "        print(\"[ ]\", end=\" \")\n",
    "    print()"
   ]
  }
 ],
 "metadata": {
  "kernelspec": {
   "display_name": "Python 3 (ipykernel)",
   "language": "python",
   "name": "python3"
  },
  "language_info": {
   "codemirror_mode": {
    "name": "ipython",
    "version": 3
   },
   "file_extension": ".py",
   "mimetype": "text/x-python",
   "name": "python",
   "nbconvert_exporter": "python",
   "pygments_lexer": "ipython3",
   "version": "3.11.5"
  }
 },
 "nbformat": 4,
 "nbformat_minor": 5
}
