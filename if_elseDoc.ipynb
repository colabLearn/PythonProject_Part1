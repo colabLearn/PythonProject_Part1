{
 "cells": [
  {
   "cell_type": "code",
   "execution_count": 13,
   "id": "28f8f011-e066-441f-9322-428813ae6eb6",
   "metadata": {},
   "outputs": [],
   "source": [
    "from random import randint"
   ]
  },
  {
   "cell_type": "code",
   "execution_count": 71,
   "id": "ccb19757-9cae-4ce8-ae05-1b14f85eff79",
   "metadata": {},
   "outputs": [
    {
     "name": "stdin",
     "output_type": "stream",
     "text": [
      "Enter your guess:  2\n"
     ]
    },
    {
     "name": "stdout",
     "output_type": "stream",
     "text": [
      "Your guess is wrong! the number is:  7\n"
     ]
    }
   ],
   "source": [
    "num = randint(1,10)\n",
    "guess = eval(input('Enter your guess: '))\n",
    "if guess ==num:\n",
    "    print('You got it!')    \n",
    "else:\n",
    "    print('Your guess is wrong! the number is: ', num)"
   ]
  },
  {
   "cell_type": "markdown",
   "id": "57a23bbb-bb71-440b-8529-0697f9c940a1",
   "metadata": {},
   "source": [
    "# Percentage>=95: A1\n",
    "## Percentage< 95 but >=89: A2\n",
    "## Percentage< 89 but >=83: A3\n",
    "## Percentage< 83 but >= 76: A4\n",
    "## Percentage< 76 but >= 70: A5\n",
    "## Percentage< 70 but >= 67: B1\n",
    "## Percentage< 67 but >= 64: B2\n",
    "## Percentage< 63 but >= 60: B3\n",
    "## Percentage<60 but >= 57: C1\n",
    "## Percentage<57 but >=54): C2\n",
    "## Percentage<54 but >=50:  C3 \n",
    "## Percentage<50 but >=47:  D1\n",
    "## Percentage<<47 but >=44: D2\n",
    "## Percentage<44 but >=40:  D3\n",
    "## Percentage<40 but >=37: MF1 (Marginal fail)\n",
    "## Percentage<37 but  >=34:MF2 (Marginal fail)\n",
    "## Percentage<34 but >=30:MF3 (Marginal fail)\n",
    "## Percentage <30 but >=20: CF (Clear fail)\n",
    "## Percentage<20 but >=1: BF (Bad fail)"
   ]
  },
  {
   "cell_type": "markdown",
   "id": "35be1464-895e-4876-a467-9319f30cefbd",
   "metadata": {},
   "source": [
    "## Comparions: ==, >, <, >=, <=, !=\n",
    "## Logical: AND, OR, Not"
   ]
  },
  {
   "cell_type": "code",
   "execution_count": 63,
   "id": "bbf18912-b220-4f90-9ba7-71a5b1cbb9ba",
   "metadata": {},
   "outputs": [
    {
     "name": "stdin",
     "output_type": "stream",
     "text": [
      "Please enter your score in % 75\n"
     ]
    },
    {
     "name": "stdout",
     "output_type": "stream",
     "text": [
      "Your grade is: A5\n"
     ]
    }
   ],
   "source": [
    "#Score to Grade Conversion Scale\n",
    "yourScore= eval(input('Please enter your score in %'))\n",
    "if (yourScore>=95):\n",
    "    print('Your grade is: A1')\n",
    "if (yourScore<95 and yourScore>=89):\n",
    "    print('Your grade is: A2')\n",
    "if (yourScore<89 and yourScore>=83):\n",
    "    print('Your grade is: A3')\n",
    "if (yourScore<83 and yourScore>=76):\n",
    "    print('Your grade is: A4')\n",
    "if (yourScore<76 and yourScore>=70):\n",
    "    print('Your grade is: A5')\n",
    "if (yourScore<70 and yourScore>=67):\n",
    "    print('Your grade is: B1')\n",
    "if (yourScore<67 and yourScore>=64):\n",
    "    print('Your grade is: B2')\n",
    "if (yourScore<64 and yourScore>=60):\n",
    "    print('Your grade is: B3')\n",
    "if (yourScore<60 and yourScore>=57):\n",
    "    print('Your grade is: C1')\n",
    "if (yourScore<57 and yourScore>=54):\n",
    "    print('Your grade is: C2')\n",
    "if (yourScore<54 and yourScore>=50):\n",
    "    print('Your grade is: C3')\n",
    "if (yourScore<50 and yourScore>=47):\n",
    "    print('Your grade is: D1')\n",
    "if (yourScore<47 and yourScore>=44):\n",
    "    print('Your grade is: D2')\n",
    "if (yourScore<44 and yourScore>=40):\n",
    "    print('Your grade is: D3')\n",
    "if (yourScore<40 and yourScore>=37):\n",
    "    print('Your grade is: MF1 (Marginal fail)')\n",
    "if (yourScore<37 and yourScore>=34):\n",
    "    print('Your grade is: MF2 (Marginal fail)')\n",
    "if (yourScore<34 and yourScore>=30):\n",
    "    print('Your grade is: MF3 (Marginal fail)')\n",
    "if (yourScore<30 and yourScore>=20):\n",
    "    print('Your grade is: CF (Clear fail)')\n",
    "if (yourScore<20 and yourScore>=1):\n",
    "    print('Your grade is: BF (Bad fail)')"
   ]
  },
  {
   "cell_type": "code",
   "execution_count": 51,
   "id": "eb665ffa-c0e8-4ee8-a52a-c14ae9c01cdb",
   "metadata": {},
   "outputs": [
    {
     "name": "stdout",
     "output_type": "stream",
     "text": [
      "Value of x is between 1 and 100\n"
     ]
    }
   ],
   "source": [
    "#Common mistakes\n",
    "x = 20\n",
    "if(x>1 and x<100):\n",
    "    print('Value of x is between 1 and 100')"
   ]
  },
  {
   "cell_type": "code",
   "execution_count": 59,
   "id": "317086a6-1291-46a7-83b5-59dcb18f41dc",
   "metadata": {},
   "outputs": [
    {
     "name": "stdin",
     "output_type": "stream",
     "text": [
      "Please enter your score in % 51\n"
     ]
    },
    {
     "name": "stdout",
     "output_type": "stream",
     "text": [
      "Your grade is: C3\n"
     ]
    }
   ],
   "source": [
    "#Score to Grade Conversion Scale\n",
    "yourScore= eval(input('Please enter your score in %'))\n",
    "if (yourScore>=95):\n",
    "    print('Your grade is: A1')\n",
    "elif (yourScore>=89):\n",
    "    print('Your grade is: A2')\n",
    "elif (yourScore>=83):\n",
    "    print('Your grade is: A3')\n",
    "elif (yourScore>=76):\n",
    "    print('Your grade is: A4')\n",
    "elif (yourScore>=70):\n",
    "    print('Your grade is: A5')\n",
    "elif (yourScore>=67):\n",
    "    print('Your grade is: B1')\n",
    "elif (yourScore>=64):\n",
    "    print('Your grade is: B2')\n",
    "elif (yourScore>=60):\n",
    "    print('Your grade is: B3')\n",
    "elif (yourScore>=57):\n",
    "    print('Your grade is: C1')\n",
    "elif (yourScore>=54):\n",
    "    print('Your grade is: C2')\n",
    "elif (yourScore>=50):\n",
    "    print('Your grade is: C3')\n",
    "elif (yourScore>=47):\n",
    "    print('Your grade is: D1')\n",
    "elif (yourScore>=44):\n",
    "    print('Your grade is: D2')\n",
    "elif (yourScore>=40):\n",
    "    print('Your grade is: D3')\n",
    "elif (yourScore>=37):\n",
    "    print('Your grade is: MF1 (Marginal fail)')\n",
    "elif (yourScore>=34):\n",
    "    print('Your grade is: MF2 (Marginal fail)')\n",
    "elif (yourScore>=30):\n",
    "    print('Your grade is: MF3 (Marginal fail)')\n",
    "elif (yourScore>=20):\n",
    "    print('Your grade is: CF (Clear fail)')\n",
    "else: \n",
    "    print('Your grade is: BF (Bad fail)')"
   ]
  },
  {
   "cell_type": "code",
   "execution_count": 62,
   "id": "567e823c-fe96-4a5d-9177-e07ab56a3a19",
   "metadata": {},
   "outputs": [],
   "source": [
    "if(2==1 or 4<3):\n",
    "    print(\"The output is true\")\n",
    "    "
   ]
  },
  {
   "cell_type": "code",
   "execution_count": null,
   "id": "5bbc9a96-1bb9-4872-b3ef-08d6a8016971",
   "metadata": {},
   "outputs": [],
   "source": []
  }
 ],
 "metadata": {
  "kernelspec": {
   "display_name": "Python 3 (ipykernel)",
   "language": "python",
   "name": "python3"
  },
  "language_info": {
   "codemirror_mode": {
    "name": "ipython",
    "version": 3
   },
   "file_extension": ".py",
   "mimetype": "text/x-python",
   "name": "python",
   "nbconvert_exporter": "python",
   "pygments_lexer": "ipython3",
   "version": "3.11.4"
  }
 },
 "nbformat": 4,
 "nbformat_minor": 5
}
