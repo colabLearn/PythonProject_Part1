{
 "cells": [
  {
   "cell_type": "markdown",
   "id": "27b3fe09-17a3-44b9-b9bf-ba41c729ab63",
   "metadata": {},
   "source": [
    "#### School-Class-Student Exercise "
   ]
  },
  {
   "cell_type": "code",
   "execution_count": 22,
   "id": "f620a6c6-442c-4c00-803c-e8e57cfef359",
   "metadata": {
    "tags": []
   },
   "outputs": [
    {
     "name": "stdout",
     "output_type": "stream",
     "text": [
      "{'S1': [], 'S2': [], 'S3': [], 'S4': []}\n"
     ]
    }
   ],
   "source": [
    "## Create  dictionary of classes and assign empty list to each class\n",
    "for l in classList:\n",
    "    Class_Stud[l]=[]\n",
    "print(Class_Stud)"
   ]
  },
  {
   "cell_type": "code",
   "execution_count": 23,
   "id": "29d5d662-9ede-471e-9b52-afb2201aabd1",
   "metadata": {
    "tags": []
   },
   "outputs": [
    {
     "name": "stdin",
     "output_type": "stream",
     "text": [
      "Enter 1: To add student(s) to a class\n",
      "Enter 0: to exist the system \n",
      " : 1\n"
     ]
    }
   ],
   "source": [
    "\n",
    "## Get user option to add names to class or exit\n",
    "while(True): ##Everythin within the while loop continues until somthin happene that breaks the loop\n",
    "        messg1 = \"Please enter a valid integer\"\n",
    "        try:\n",
    "            #try to get user option to add student to class or exit\n",
    "            add_exit = int(input(\"Enter 1: To add student(s) to a class\"\n",
    "                             \"\\nEnter 0: to exist the system \\n :\"))\n",
    "            \n",
    "            #some implementation here\n",
    "            #print(\"If the user enter correction options 1 or 0, \\n\"\n",
    "            #      \"the code will continue here based on the options...\")\n",
    "            if add_exit not in(0,1):\n",
    "                messg1 = \"Please enter 1 or 0\"\n",
    "                raise  ValueError()\n",
    "        except ValueError:\n",
    "            #print(\"If the user enter any other value aside 1 or 0,\\n\"\n",
    "            #      \"the the while loop will continue to prompt them for valid input \\n\"\n",
    "            #      \"skippin the reset of the code...\")\n",
    "            print(\"Invalid input: \", end=' ')\n",
    "            print(messg1)\n",
    "            \n",
    "            continue\n",
    "        break\n",
    "#return add_exit"
   ]
  },
  {
   "cell_type": "code",
   "execution_count": 28,
   "id": "e205726b-0530-4349-aeed-64ca7ad8f3d2",
   "metadata": {
    "tags": []
   },
   "outputs": [
    {
     "name": "stdin",
     "output_type": "stream",
     "text": [
      "List of existing classes: S1, S2, S3, S4.\n",
      "Please enter the class into which you want to add student(s):  S1\n"
     ]
    }
   ],
   "source": [
    "import time ##import time to simulate the fancy exit\n",
    "##Add get the class they want to add name to if the choose to add\n",
    "## Or exit system if they chose to exist the system\n",
    "if add_exit==0:\n",
    "    print(\"Exiting the system ...\")\n",
    "    for _ in range(5):\n",
    "        print(\".\", end=\"\", flush=True)\n",
    "        time.sleep(0.1) \n",
    "    print(\"Bye!\")\n",
    "elif add_exit==1:\n",
    "    while(True):\n",
    "        classToAdd = input(\"List of existing classes: S1, S2, S3, S4.\\n\"\n",
    "                           \"Please enter the class into which you want to add student(s): \")\n",
    "        if classToAdd.upper() in Class_Stud:\n",
    "            classToAdd=classToAdd.upper()\n",
    "            break\n",
    "        elif classToAdd.strip()==\"0\":\n",
    "            print(\"Exiting the system ...\")\n",
    "            for _ in range(5):\n",
    "                print(\".\", end=\"\", flush=True)\n",
    "                time.sleep(0.1) \n",
    "            print(\"Bye!\")\n",
    "            break\n",
    "        else:\n",
    "            print(classToAdd+ \" is not in the list of existing classes\")"
   ]
  },
  {
   "cell_type": "code",
   "execution_count": 29,
   "id": "3f20e83c-d91c-4944-9e83-5438338d8110",
   "metadata": {
    "tags": []
   },
   "outputs": [
    {
     "name": "stdin",
     "output_type": "stream",
     "text": [
      "Add list of names separated by ','.\n",
      " For example: 'John Bruce, Adekunle Adeniran: \n",
      "Or enter 0 to exit! Jhonn\n"
     ]
    },
    {
     "name": "stdout",
     "output_type": "stream",
     "text": [
      "Student's Name Successfully Entered\n"
     ]
    }
   ],
   "source": [
    "##Get the list of names they want to add to class or \n",
    "## give them option to exit the system at this stage\n",
    "namesOfStudentToAdd= input(\"Add list of names separated by ','.\" \n",
    "                            \"\\n For example: 'John Bruce, Adekunle Adeniran: \\n\"\n",
    "                            \"Or enter 0 to exit!\")\n",
    "nameList = [n.strip() for n in namesOfStudentToAdd.split(\",\") if n.strip() !=\"\"]\n",
    "if nameList[0]==\"0\":\n",
    "    print(\"Exiting the system ...\")\n",
    "    for _ in range(5):\n",
    "        print(\".\", end=\"\", flush=True)\n",
    "        time.sleep(0.1) \n",
    "    print(\"Bye!\")\n",
    "else:  \n",
    "    Class_Stud[classToAdd].extend(nameList)\n",
    "    print(\"Student's Name Successfully Entered\")"
   ]
  },
  {
   "cell_type": "code",
   "execution_count": 26,
   "id": "e25c94d5-f881-4495-9494-48b04fc38499",
   "metadata": {
    "tags": []
   },
   "outputs": [
    {
     "name": "stdin",
     "output_type": "stream",
     "text": [
      "Enter the class for which you want to print list of students \n",
      "List of classes: S1, S2, S3, S4:  S\n"
     ]
    },
    {
     "name": "stdout",
     "output_type": "stream",
     "text": [
      "============================================\n"
     ]
    },
    {
     "name": "stdin",
     "output_type": "stream",
     "text": [
      "Please enter valid class among list of classes ( S1, S2, S3, S4): S1\n"
     ]
    },
    {
     "name": "stdout",
     "output_type": "stream",
     "text": [
      "List of students in class S1:\n",
      "============================================\n",
      "Yusuf Ali\n",
      "Baba Barba\n"
     ]
    }
   ],
   "source": [
    "##Print list of students in a class\n",
    "checkClass= input(\"Enter the class for which you want to print list of students \\n\"\n",
    "                      \"List of classes: S1, S2, S3, S4: \")\n",
    "print(\"============================================\")\n",
    "while(True):\n",
    "    if checkClass.upper() not in Class_Stud:\n",
    "        checkClass =input(\"Please enter valid class among list of classes ( S1, S2, S3, S4):\")\n",
    "    elif (checkClass.upper() in Class_Stud and len(Class_Stud[checkClass.upper()])==0):\n",
    "        print(\"No student added to class \"+ checkClass.upper() + \" yet\")\n",
    "        break\n",
    "    elif (checkClass.upper() in Class_Stud and len(Class_Stud[checkClass.upper()])>0):\n",
    "        print(\"List of students in class \"+checkClass + \":\")\n",
    "        print(\"============================================\")\n",
    "        for s in Class_Stud[checkClass.upper()]:\n",
    "            print(s)          \n",
    "        break"
   ]
  },
  {
   "cell_type": "code",
   "execution_count": 27,
   "id": "2b88e4bb-3e42-485c-bfbb-b7191362c85b",
   "metadata": {
    "tags": []
   },
   "outputs": [
    {
     "name": "stdout",
     "output_type": "stream",
     "text": [
      "   List of students in S1\n",
      "============================\n",
      "Yusuf Ali\n",
      "****************************\n",
      "Baba Barba\n",
      "****************************\n",
      "No student added to class S2\n",
      "===============================\n",
      "No student added to class S3\n",
      "===============================\n",
      "No student added to class S4\n",
      "===============================\n"
     ]
    }
   ],
   "source": [
    "##Print list of students in all classes\n",
    "for k in Class_Stud:\n",
    "    if len(Class_Stud[k])==0:\n",
    "        print(\"No student added to class \"+ k)\n",
    "        print(\"===============================\")\n",
    "    else:\n",
    "        print(\"   List of students in \"+ k )\n",
    "        print(\"============================\")\n",
    "        for s in Class_Stud[k]:\n",
    "            print(s) \n",
    "            print(\"****************************\")"
   ]
  },
  {
   "cell_type": "code",
   "execution_count": null,
   "id": "7e64ecba-c57f-4c26-84d8-c07292e243d8",
   "metadata": {},
   "outputs": [],
   "source": []
  }
 ],
 "metadata": {
  "kernelspec": {
   "display_name": "Python 3 (ipykernel)",
   "language": "python",
   "name": "python3"
  },
  "language_info": {
   "codemirror_mode": {
    "name": "ipython",
    "version": 3
   },
   "file_extension": ".py",
   "mimetype": "text/x-python",
   "name": "python",
   "nbconvert_exporter": "python",
   "pygments_lexer": "ipython3",
   "version": "3.11.5"
  }
 },
 "nbformat": 4,
 "nbformat_minor": 5
}
