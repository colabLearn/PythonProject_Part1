{
 "cells": [
  {
   "cell_type": "code",
   "execution_count": 40,
   "id": "a361c992-60db-409a-bd63-3f8d69289a29",
   "metadata": {
    "tags": []
   },
   "outputs": [],
   "source": [
    "dataDict = {'S1_Students':['Dan Jef', 'Calos Mark', 'Mandy Brown'],\n",
    "            'S2_Students':['Jenifa Rice', 'Adekunle Adeniran'],\n",
    "            'S3_Students':['Alaska Karatu', 'Adewole Adenira'],\n",
    "            'S4_Students':['Gifanji Lala', 'Aisha Garfar']\n",
    "           }"
   ]
  },
  {
   "cell_type": "code",
   "execution_count": 41,
   "id": "c2e1e7a6-4f4c-4aae-a138-6ca5e42ae19f",
   "metadata": {
    "tags": []
   },
   "outputs": [
    {
     "name": "stdout",
     "output_type": "stream",
     "text": [
      "{'S1_Students': ['Dan Jef', 'Calos Mark', 'Mandy Brown'], 'S2_Students': ['Jenifa Rice', 'Adekunle Adeniran'], 'S3_Students': ['Alaska Karatu', 'Adewole Adenira'], 'S4_Students': ['Gifanji Lala', 'Aisha Garfar']}\n"
     ]
    }
   ],
   "source": [
    "print(dataDict)"
   ]
  },
  {
   "cell_type": "code",
   "execution_count": 76,
   "id": "2fe312df-5167-47e5-9f81-368e958c5efc",
   "metadata": {
    "tags": []
   },
   "outputs": [
    {
     "name": "stdout",
     "output_type": "stream",
     "text": [
      "{'S1_Students': ['Dan Jef', 'Calos Mark', 'Mandy Brown'], 'S2_Students': ['Jenifa Rice', 'Adekunle Adeniran'], 'S3_Students': ['Alaska Karatu', 'Adewole Adenira'], 'S4_Students': ['Gifanji Lala', 'Aisha Garfar']}\n"
     ]
    }
   ],
   "source": [
    "def writDictToExceFile(filename, dictToWrite):\n",
    "    import openpyxl ## import openpyxl\n",
    "    try: #try to load if file exist\n",
    "        wb = openpyxl.load_workbook(filename)\n",
    "    \n",
    "    except FileNotFoundError: ## create the file if it does not exist\n",
    "        wb = openpyxl.Workbook()\n",
    "    \n",
    "    #Name the default active sheet in the excel file as the first key in the dictionary\n",
    "    wb.active.title = list(dictToWrite)[0]      \n",
    "\n",
    "    #Get all the sheets in the excel file\n",
    "    #If newly create you only have 1 sheets which is the active sheet\n",
    "    #This as been name as the first key in your dictionary\n",
    "    sheets = wb.sheetnames\n",
    "    #Iterate through the names of sheets in you excel file\n",
    "    for k in dictToWrite:\n",
    "        #For the remaining which we have not created a sheet for them\n",
    "        if k not in sheets:\n",
    "            #Create sheet named after the remaining keys of your dictionary\n",
    "            sheet  = wb.create_sheet(title=k) #create new sheet \n",
    "            empty_row = 1 \n",
    "        \n",
    "        ## get each sheet of the work book\n",
    "        sheet = wb[k]\n",
    "        #get the maximum number of rows that has already been written to in the sheet\n",
    "        max_row = sheet.max_row\n",
    "        \n",
    "        #if the sheet is empty let the maximum row=1\n",
    "        empty_row = max_row  if max_row else 1   # Continue from the last filled row for existing sheet\n",
    "        \n",
    "        #write data in the value of corrsponding key in the dictionary to the sheet\n",
    "        #named after the key\n",
    "        for idx, data in enumerate(dictToWrite[k], start=empty_row):\n",
    "            sheet.cell(row=idx, column=1).value=data\n",
    "        #Save the workbook\n",
    "    wb.save(filename)\n",
    "print(dataDict)"
   ]
  },
  {
   "cell_type": "code",
   "execution_count": 77,
   "id": "c7dde892-fb83-40f7-b1c7-bb1b41e2ed81",
   "metadata": {
    "tags": []
   },
   "outputs": [],
   "source": [
    "#for l, k in enumerate(dataDict):\n",
    "#    print(l, k)\n",
    "#print(list(dataDict)[0])"
   ]
  },
  {
   "cell_type": "code",
   "execution_count": 78,
   "id": "7da09838-7b54-4b26-a8fc-815d9e03cdc6",
   "metadata": {
    "tags": []
   },
   "outputs": [],
   "source": [
    "writDictToExceFile('testExecel.xlsx', dataDict)"
   ]
  },
  {
   "cell_type": "code",
   "execution_count": 79,
   "id": "e24b26ac-7893-4fef-b098-b1a984033183",
   "metadata": {
    "tags": []
   },
   "outputs": [],
   "source": [
    "new_dataDict = {'S1_Students':['Ben Ben', 'Tango Jin', 'Kabira Ade'],\n",
    "            'S2_Students':['Lamao Hu'],\n",
    "            'S3_Students':['Rose Lan'],\n",
    "            'S4_Students':['Kuf foo']\n",
    "           }"
   ]
  },
  {
   "cell_type": "code",
   "execution_count": 80,
   "id": "28de117f-3fd0-4b84-8225-46e365954eeb",
   "metadata": {
    "tags": []
   },
   "outputs": [],
   "source": [
    "writDictToExceFile('testExecel.xlsx', new_dataDict)"
   ]
  },
  {
   "cell_type": "markdown",
   "id": "526606f1-d20e-497a-a17b-f27bb04d9f14",
   "metadata": {},
   "source": [
    "#### enumerate(dictToWrite[k], start=empty_row): \n",
    "#### This part is using the enumerate() function \n",
    "#### to iterate over the items in dictToWrite[k], which is a list-like object \n",
    "#### (e.g., list, tuple). \n",
    "#### enumerate() adds a counter to the iterable, so for each iteration, \n",
    "#### idx holds the index of the current item and data holds the value of the current item.\n",
    "#### The start parameter specifies the start value of the counter, \n",
    "#### so idx starts from empty_row."
   ]
  },
  {
   "cell_type": "code",
   "execution_count": null,
   "id": "563069de-bfe7-49f3-bcab-a428c2abde6f",
   "metadata": {},
   "outputs": [],
   "source": []
  }
 ],
 "metadata": {
  "kernelspec": {
   "display_name": "Python 3 (ipykernel)",
   "language": "python",
   "name": "python3"
  },
  "language_info": {
   "codemirror_mode": {
    "name": "ipython",
    "version": 3
   },
   "file_extension": ".py",
   "mimetype": "text/x-python",
   "name": "python",
   "nbconvert_exporter": "python",
   "pygments_lexer": "ipython3",
   "version": "3.11.5"
  }
 },
 "nbformat": 4,
 "nbformat_minor": 5
}
