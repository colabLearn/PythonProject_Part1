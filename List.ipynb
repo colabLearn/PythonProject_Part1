{
 "cells": [
  {
   "cell_type": "code",
   "execution_count": 1,
   "id": "e794aa97-7635-45c5-bd4d-c587ca7370f5",
   "metadata": {
    "tags": []
   },
   "outputs": [],
   "source": [
    "myList = []\n",
    "myList = [2,3,4,5,6,7]"
   ]
  },
  {
   "cell_type": "code",
   "execution_count": 2,
   "id": "2186b40c-d32a-48f7-aeb2-05f2f532ddde",
   "metadata": {
    "tags": []
   },
   "outputs": [],
   "source": [
    "Score1= 23\n",
    "Score2 = 34\n",
    "Score3 = 30\n",
    "Score4 = 45\n",
    "Score5 = 17"
   ]
  },
  {
   "cell_type": "code",
   "execution_count": 3,
   "id": "a1361095-6305-49b5-8c18-7d516dc76ad7",
   "metadata": {
    "tags": []
   },
   "outputs": [],
   "source": [
    "sumScore = Score1+Score2+Score3+Score4+Score5"
   ]
  },
  {
   "cell_type": "code",
   "execution_count": 4,
   "id": "756965ff-63c9-44a8-ba4a-3e19457cee15",
   "metadata": {
    "tags": []
   },
   "outputs": [],
   "source": [
    "average = sumScore/5"
   ]
  },
  {
   "cell_type": "code",
   "execution_count": 5,
   "id": "1a655c0b-a7d9-476a-b150-2a213b6ab27e",
   "metadata": {
    "tags": []
   },
   "outputs": [
    {
     "name": "stdout",
     "output_type": "stream",
     "text": [
      "29.8\n"
     ]
    }
   ],
   "source": [
    "print(average)"
   ]
  },
  {
   "cell_type": "code",
   "execution_count": 6,
   "id": "aa66dda3-3f68-47d1-9a0f-3f9438663d51",
   "metadata": {
    "tags": []
   },
   "outputs": [],
   "source": [
    "scores = [Score1,Score2, Score3, Score4, Score5] "
   ]
  },
  {
   "cell_type": "code",
   "execution_count": 8,
   "id": "4c8077b0-ec00-4de1-863c-7a2cc2f85a74",
   "metadata": {
    "tags": []
   },
   "outputs": [],
   "source": [
    "average2 = sum(scores)/len(scores)"
   ]
  },
  {
   "cell_type": "code",
   "execution_count": 9,
   "id": "a6713a1c-7256-4bab-9959-b22d3c78dd4d",
   "metadata": {
    "tags": []
   },
   "outputs": [
    {
     "name": "stdout",
     "output_type": "stream",
     "text": [
      "29.8\n"
     ]
    }
   ],
   "source": [
    "print(average2)"
   ]
  },
  {
   "cell_type": "code",
   "execution_count": 10,
   "id": "173782d9-ff33-4145-80d0-dd6e1b64c173",
   "metadata": {
    "tags": []
   },
   "outputs": [],
   "source": [
    "for i in range(len(scores)):\n",
    "    scores[i] = scores[i]+5;"
   ]
  },
  {
   "cell_type": "code",
   "execution_count": 11,
   "id": "a3c49481-1403-484f-ab35-fdd1da79a3c4",
   "metadata": {
    "tags": []
   },
   "outputs": [
    {
     "name": "stdout",
     "output_type": "stream",
     "text": [
      "[28, 39, 35, 50, 22]\n"
     ]
    }
   ],
   "source": [
    "print(scores)"
   ]
  },
  {
   "cell_type": "code",
   "execution_count": 12,
   "id": "7e22b64a-e78f-4e0a-87db-fb0759d17c36",
   "metadata": {
    "tags": []
   },
   "outputs": [],
   "source": [
    "myList2 = [32, \"Tango\", 23.5, [23,4,5]]"
   ]
  },
  {
   "cell_type": "code",
   "execution_count": 13,
   "id": "06c98dbe-b994-442a-afdf-52de67ad7736",
   "metadata": {
    "tags": []
   },
   "outputs": [
    {
     "name": "stdout",
     "output_type": "stream",
     "text": [
      "32\n",
      "Tango\n",
      "23.5\n",
      "[23, 4, 5]\n"
     ]
    }
   ],
   "source": [
    "for v in myList2:\n",
    "    print(v)"
   ]
  },
  {
   "cell_type": "code",
   "execution_count": 14,
   "id": "558a6368-cfd7-46de-8bd4-78e6b7e2fc32",
   "metadata": {
    "tags": []
   },
   "outputs": [],
   "source": [
    "#Built-in functions of a list"
   ]
  },
  {
   "cell_type": "code",
   "execution_count": 17,
   "id": "2029f852-c777-4893-a31e-87097956d9f0",
   "metadata": {
    "tags": []
   },
   "outputs": [
    {
     "name": "stdout",
     "output_type": "stream",
     "text": [
      "Lenght of myList4 : 5\n",
      "Minimum value in myList4: 3\n",
      "Maximum value in myList4:  23\n",
      "Sum of values in myList4:  64\n"
     ]
    }
   ],
   "source": [
    "myList4 = [3, 13, 7, 18, 23]\n",
    "print(\"Lenght of myList4 :\", len(myList4))\n",
    "print(\"Minimum value in myList4:\", min(myList4))\n",
    "print(\"Maximum value in myList4: \", max(myList4))\n",
    "print(\"Sum of values in myList4: \", sum(myList4))"
   ]
  },
  {
   "cell_type": "code",
   "execution_count": 18,
   "id": "e69adb98-8bd8-4eed-b987-b44dfc6a0ddf",
   "metadata": {
    "tags": []
   },
   "outputs": [
    {
     "data": {
      "text/plain": [
       "[3, 7, 13, 18, 23]"
      ]
     },
     "execution_count": 18,
     "metadata": {},
     "output_type": "execute_result"
    }
   ],
   "source": [
    "sorted(myList4)"
   ]
  },
  {
   "cell_type": "code",
   "execution_count": 19,
   "id": "c1223995-fa58-4d0f-ba23-8622317c9b09",
   "metadata": {
    "tags": []
   },
   "outputs": [
    {
     "name": "stdout",
     "output_type": "stream",
     "text": [
      "[3, 13, 7, 18, 23]\n"
     ]
    }
   ],
   "source": [
    "print(myList4)"
   ]
  },
  {
   "cell_type": "code",
   "execution_count": 20,
   "id": "777591e7-b6bb-41ac-aef8-9abf992e91dc",
   "metadata": {
    "tags": []
   },
   "outputs": [
    {
     "name": "stdout",
     "output_type": "stream",
     "text": [
      "23\n",
      "18\n",
      "7\n",
      "13\n",
      "3\n"
     ]
    }
   ],
   "source": [
    "for v in (reversed(myList4)):\n",
    "    print(v)"
   ]
  },
  {
   "cell_type": "code",
   "execution_count": 21,
   "id": "ac190b78-5e89-47bb-b0ba-37302a06dddf",
   "metadata": {
    "tags": []
   },
   "outputs": [],
   "source": [
    "reversed_myList4 = list(reversed(myList4))"
   ]
  },
  {
   "cell_type": "code",
   "execution_count": 22,
   "id": "310d8d82-c432-44de-8392-5650e5d870e0",
   "metadata": {
    "tags": []
   },
   "outputs": [
    {
     "name": "stdout",
     "output_type": "stream",
     "text": [
      "[23, 18, 7, 13, 3]\n"
     ]
    }
   ],
   "source": [
    "print(reversed_myList4)"
   ]
  },
  {
   "cell_type": "code",
   "execution_count": 49,
   "id": "e68e0217-3123-4b37-9075-dff7eb5248cc",
   "metadata": {
    "tags": []
   },
   "outputs": [],
   "source": [
    "myList5 = [9, 12, 15, 22, 7]"
   ]
  },
  {
   "cell_type": "code",
   "execution_count": 50,
   "id": "0077ddbe-39d9-47c1-8969-457a67716303",
   "metadata": {
    "tags": []
   },
   "outputs": [],
   "source": [
    "zipList = list(zip(myList4, myList5))"
   ]
  },
  {
   "cell_type": "code",
   "execution_count": 51,
   "id": "08e45903-eaf6-4f92-8c9b-ef645f829e37",
   "metadata": {
    "tags": []
   },
   "outputs": [
    {
     "name": "stdout",
     "output_type": "stream",
     "text": [
      "[(3, 9), (13, 12), (7, 15), (18, 22), (23, 7)]\n"
     ]
    }
   ],
   "source": [
    "print(zipList)"
   ]
  },
  {
   "cell_type": "code",
   "execution_count": 52,
   "id": "f342c715-12c5-4690-85ec-bab17eaac089",
   "metadata": {
    "tags": []
   },
   "outputs": [
    {
     "name": "stdout",
     "output_type": "stream",
     "text": [
      "7\n"
     ]
    }
   ],
   "source": [
    "print(myList5.pop())"
   ]
  },
  {
   "cell_type": "code",
   "execution_count": 53,
   "id": "d98469e2-1155-4ac1-9a10-a1ee7d12f362",
   "metadata": {
    "tags": []
   },
   "outputs": [
    {
     "name": "stdout",
     "output_type": "stream",
     "text": [
      "[9, 12, 15, 22]\n"
     ]
    }
   ],
   "source": [
    "print(myList5)"
   ]
  },
  {
   "cell_type": "code",
   "execution_count": 54,
   "id": "e3cc885e-1539-42d6-816d-2614b606666c",
   "metadata": {
    "tags": []
   },
   "outputs": [],
   "source": [
    "myList5.append(16)"
   ]
  },
  {
   "cell_type": "code",
   "execution_count": 55,
   "id": "5f2a10ec-fb58-448f-8fb6-39719079407c",
   "metadata": {
    "tags": []
   },
   "outputs": [
    {
     "name": "stdout",
     "output_type": "stream",
     "text": [
      "[9, 12, 15, 22, 16]\n"
     ]
    }
   ],
   "source": [
    "print(myList5)"
   ]
  },
  {
   "cell_type": "code",
   "execution_count": 56,
   "id": "9227b956-90b3-49d4-b898-1af8462f0980",
   "metadata": {
    "tags": []
   },
   "outputs": [],
   "source": [
    "myList5.append(9)"
   ]
  },
  {
   "cell_type": "code",
   "execution_count": 57,
   "id": "02a44cde-6c9f-43ba-b533-fca3d29e9682",
   "metadata": {
    "tags": []
   },
   "outputs": [
    {
     "name": "stdout",
     "output_type": "stream",
     "text": [
      "[9, 12, 15, 22, 16, 9]\n"
     ]
    }
   ],
   "source": [
    "print(myList5)"
   ]
  },
  {
   "cell_type": "code",
   "execution_count": 58,
   "id": "4a156ca5-3b10-4b59-bb6d-9f45bb820a49",
   "metadata": {
    "tags": []
   },
   "outputs": [
    {
     "data": {
      "text/plain": [
       "2"
      ]
     },
     "execution_count": 58,
     "metadata": {},
     "output_type": "execute_result"
    }
   ],
   "source": [
    "myList5.count(9)"
   ]
  },
  {
   "cell_type": "code",
   "execution_count": 59,
   "id": "babc6166-7613-435e-83e2-e209dd06e0ce",
   "metadata": {
    "tags": []
   },
   "outputs": [
    {
     "data": {
      "text/plain": [
       "0"
      ]
     },
     "execution_count": 59,
     "metadata": {},
     "output_type": "execute_result"
    }
   ],
   "source": [
    "myList5.index(9)"
   ]
  },
  {
   "cell_type": "code",
   "execution_count": 60,
   "id": "2357eda6-90c6-4195-833a-678924db4c72",
   "metadata": {
    "tags": []
   },
   "outputs": [],
   "source": [
    "myList5.insert(0, 23)"
   ]
  },
  {
   "cell_type": "code",
   "execution_count": 61,
   "id": "ad42f03d-1ac8-4804-b411-78cf7234ac3f",
   "metadata": {
    "tags": []
   },
   "outputs": [
    {
     "name": "stdout",
     "output_type": "stream",
     "text": [
      "[23, 9, 12, 15, 22, 16, 9]\n"
     ]
    }
   ],
   "source": [
    "print(myList5)"
   ]
  },
  {
   "cell_type": "code",
   "execution_count": 62,
   "id": "36fad565-0134-4daa-8fda-d450711230f7",
   "metadata": {
    "tags": []
   },
   "outputs": [],
   "source": [
    "myList5[0]=13"
   ]
  },
  {
   "cell_type": "code",
   "execution_count": 63,
   "id": "5fc4fb9a-dbb5-4458-baa9-eb48d9412995",
   "metadata": {
    "tags": []
   },
   "outputs": [
    {
     "name": "stdout",
     "output_type": "stream",
     "text": [
      "[13, 9, 12, 15, 22, 16, 9]\n"
     ]
    }
   ],
   "source": [
    "print(myList5)"
   ]
  },
  {
   "cell_type": "code",
   "execution_count": 64,
   "id": "bf9e9b5e-64c1-4e66-ac23-54505699db9b",
   "metadata": {
    "tags": []
   },
   "outputs": [],
   "source": [
    "myList5.remove(9)"
   ]
  },
  {
   "cell_type": "code",
   "execution_count": 65,
   "id": "862df692-ec04-41ec-bdaf-5a803ca55a4e",
   "metadata": {
    "tags": []
   },
   "outputs": [
    {
     "name": "stdout",
     "output_type": "stream",
     "text": [
      "[13, 12, 15, 22, 16, 9]\n"
     ]
    }
   ],
   "source": [
    "print(myList5)"
   ]
  },
  {
   "cell_type": "code",
   "execution_count": 66,
   "id": "7c06dd05-3799-41b1-ac07-ea04a6ff7843",
   "metadata": {
    "tags": []
   },
   "outputs": [],
   "source": [
    "newList  = myList5"
   ]
  },
  {
   "cell_type": "code",
   "execution_count": 67,
   "id": "9b1b2639-5045-4186-a4e2-dfb4c835c7e9",
   "metadata": {
    "tags": []
   },
   "outputs": [
    {
     "name": "stdout",
     "output_type": "stream",
     "text": [
      "[13, 12, 15, 22, 16, 9]\n"
     ]
    }
   ],
   "source": [
    "print(newList)"
   ]
  },
  {
   "cell_type": "code",
   "execution_count": 68,
   "id": "9db7a6a9-b7c8-4dcd-b875-f1950f532ccc",
   "metadata": {
    "tags": []
   },
   "outputs": [
    {
     "name": "stdout",
     "output_type": "stream",
     "text": [
      "[13, 12, 15, 22, 16, 9]\n"
     ]
    }
   ],
   "source": [
    "print(myList5)"
   ]
  },
  {
   "cell_type": "code",
   "execution_count": 69,
   "id": "c6a58455-9123-4ec0-8201-777fef29eec7",
   "metadata": {
    "tags": []
   },
   "outputs": [
    {
     "data": {
      "text/plain": [
       "9"
      ]
     },
     "execution_count": 69,
     "metadata": {},
     "output_type": "execute_result"
    }
   ],
   "source": [
    "newList.pop()"
   ]
  },
  {
   "cell_type": "code",
   "execution_count": 70,
   "id": "9e53a7de-4643-4ff9-9ca0-a4cffa8815d1",
   "metadata": {
    "tags": []
   },
   "outputs": [
    {
     "name": "stdout",
     "output_type": "stream",
     "text": [
      "[13, 12, 15, 22, 16]\n"
     ]
    }
   ],
   "source": [
    "print(myList5)"
   ]
  },
  {
   "cell_type": "code",
   "execution_count": 71,
   "id": "3b4d7ca1-8b2c-4645-8428-ed3ab57fbc46",
   "metadata": {
    "tags": []
   },
   "outputs": [],
   "source": [
    "newList = myList5[:]"
   ]
  },
  {
   "cell_type": "code",
   "execution_count": 72,
   "id": "d705c86b-3fb1-4a09-8036-ada589752177",
   "metadata": {
    "tags": []
   },
   "outputs": [
    {
     "name": "stdout",
     "output_type": "stream",
     "text": [
      "[13, 12, 15, 22, 16]\n"
     ]
    }
   ],
   "source": [
    "print(newList)"
   ]
  },
  {
   "cell_type": "code",
   "execution_count": 73,
   "id": "0b360232-38c9-461f-a615-0dc7a5669702",
   "metadata": {
    "tags": []
   },
   "outputs": [
    {
     "name": "stdout",
     "output_type": "stream",
     "text": [
      "[13, 12, 15, 22, 16]\n"
     ]
    }
   ],
   "source": [
    "print(myList5)"
   ]
  },
  {
   "cell_type": "code",
   "execution_count": 74,
   "id": "2cc846dd-4bba-4728-85f7-72b13978c419",
   "metadata": {
    "tags": []
   },
   "outputs": [
    {
     "data": {
      "text/plain": [
       "16"
      ]
     },
     "execution_count": 74,
     "metadata": {},
     "output_type": "execute_result"
    }
   ],
   "source": [
    "newList.pop()"
   ]
  },
  {
   "cell_type": "code",
   "execution_count": 75,
   "id": "cb3d551a-62c3-43ce-b1aa-e357f05122c6",
   "metadata": {
    "tags": []
   },
   "outputs": [
    {
     "name": "stdout",
     "output_type": "stream",
     "text": [
      "[13, 12, 15, 22]\n"
     ]
    }
   ],
   "source": [
    "print(newList)"
   ]
  },
  {
   "cell_type": "code",
   "execution_count": 76,
   "id": "26363491-b2c4-4516-bd86-9759192465fd",
   "metadata": {
    "tags": []
   },
   "outputs": [
    {
     "name": "stdout",
     "output_type": "stream",
     "text": [
      "[13, 12, 15, 22, 16]\n"
     ]
    }
   ],
   "source": [
    "print(myList5)"
   ]
  },
  {
   "cell_type": "code",
   "execution_count": 77,
   "id": "ddb211e0-19be-4c9f-9530-9c88bdec6451",
   "metadata": {
    "tags": []
   },
   "outputs": [],
   "source": [
    "del myList5[1]"
   ]
  },
  {
   "cell_type": "code",
   "execution_count": 78,
   "id": "482cc269-3ee4-40c6-9ae4-2fb689661de1",
   "metadata": {
    "tags": []
   },
   "outputs": [
    {
     "name": "stdout",
     "output_type": "stream",
     "text": [
      "[13, 15, 22, 16]\n"
     ]
    }
   ],
   "source": [
    "print(myList5)"
   ]
  },
  {
   "cell_type": "code",
   "execution_count": 79,
   "id": "64196492-d9b4-41d9-b797-c1797dbbab0d",
   "metadata": {
    "tags": []
   },
   "outputs": [],
   "source": [
    "del myList5[:2]"
   ]
  },
  {
   "cell_type": "code",
   "execution_count": 80,
   "id": "f8be5a86-0491-4b75-9cad-370685b04370",
   "metadata": {
    "tags": []
   },
   "outputs": [
    {
     "name": "stdout",
     "output_type": "stream",
     "text": [
      "[22, 16]\n"
     ]
    }
   ],
   "source": [
    "print(myList5)"
   ]
  },
  {
   "cell_type": "code",
   "execution_count": null,
   "id": "0f82406c-3a7d-48f2-8fce-d9bcc4684491",
   "metadata": {},
   "outputs": [],
   "source": []
  }
 ],
 "metadata": {
  "kernelspec": {
   "display_name": "Python 3 (ipykernel)",
   "language": "python",
   "name": "python3"
  },
  "language_info": {
   "codemirror_mode": {
    "name": "ipython",
    "version": 3
   },
   "file_extension": ".py",
   "mimetype": "text/x-python",
   "name": "python",
   "nbconvert_exporter": "python",
   "pygments_lexer": "ipython3",
   "version": "3.11.5"
  }
 },
 "nbformat": 4,
 "nbformat_minor": 5
}
