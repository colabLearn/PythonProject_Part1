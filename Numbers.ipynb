{
 "cells": [
  {
   "cell_type": "code",
   "execution_count": 1,
   "id": "359ffd29-40f4-453a-b891-cf4940188a8a",
   "metadata": {},
   "outputs": [],
   "source": [
    "num1= 10\n",
    "num2 = 10.2"
   ]
  },
  {
   "cell_type": "code",
   "execution_count": 2,
   "id": "69daae7d-0240-49f6-a741-81592a5e471f",
   "metadata": {},
   "outputs": [
    {
     "name": "stdout",
     "output_type": "stream",
     "text": [
      "<class 'int'> <class 'float'>\n"
     ]
    }
   ],
   "source": [
    "print(type(num1), type(num2))"
   ]
  },
  {
   "cell_type": "code",
   "execution_count": 5,
   "id": "37f49366-f221-4c18-a6e0-1b260949b22b",
   "metadata": {},
   "outputs": [],
   "source": [
    "num1 = 11.2"
   ]
  },
  {
   "cell_type": "code",
   "execution_count": 6,
   "id": "cf4f7bc5-0ad3-4ce2-9444-23b90b483bb1",
   "metadata": {},
   "outputs": [
    {
     "name": "stdout",
     "output_type": "stream",
     "text": [
      "<class 'float'> <class 'float'>\n"
     ]
    }
   ],
   "source": [
    "print(type(num1), type(num2))"
   ]
  },
  {
   "cell_type": "code",
   "execution_count": 7,
   "id": "bedf390a-f464-4dcb-b48f-a9b297e91c69",
   "metadata": {},
   "outputs": [
    {
     "name": "stdout",
     "output_type": "stream",
     "text": [
      "21.4\n"
     ]
    }
   ],
   "source": [
    "print(num1+num2)"
   ]
  },
  {
   "cell_type": "markdown",
   "id": "ca579665-b6a9-4f94-98ef-5008c49f30e9",
   "metadata": {},
   "source": [
    "# Math Operators\n",
    "## +, - , * , /, **, //, %"
   ]
  },
  {
   "cell_type": "code",
   "execution_count": 8,
   "id": "ab4ca7f5-648a-4e6a-9abf-115344684dd8",
   "metadata": {},
   "outputs": [
    {
     "name": "stdout",
     "output_type": "stream",
     "text": [
      "11\n"
     ]
    }
   ],
   "source": [
    "print(6+5)"
   ]
  },
  {
   "cell_type": "code",
   "execution_count": 9,
   "id": "74979bc3-3651-449c-b7d1-91431664c903",
   "metadata": {},
   "outputs": [
    {
     "name": "stdout",
     "output_type": "stream",
     "text": [
      "1\n"
     ]
    }
   ],
   "source": [
    "print(6-5)"
   ]
  },
  {
   "cell_type": "code",
   "execution_count": 10,
   "id": "6a54ac0a-1272-46da-af90-338f48d1b881",
   "metadata": {},
   "outputs": [
    {
     "name": "stdout",
     "output_type": "stream",
     "text": [
      "30\n"
     ]
    }
   ],
   "source": [
    "print(6*5)"
   ]
  },
  {
   "cell_type": "code",
   "execution_count": 11,
   "id": "61a61edd-bc1c-458d-82b1-94501acbcc6f",
   "metadata": {},
   "outputs": [
    {
     "name": "stdout",
     "output_type": "stream",
     "text": [
      "1.2\n"
     ]
    }
   ],
   "source": [
    "print(6/5)"
   ]
  },
  {
   "cell_type": "code",
   "execution_count": 12,
   "id": "c82c7c95-0bb6-44a2-a549-fefd5efd3f44",
   "metadata": {},
   "outputs": [
    {
     "name": "stdout",
     "output_type": "stream",
     "text": [
      "8\n"
     ]
    }
   ],
   "source": [
    "print(2**3)"
   ]
  },
  {
   "cell_type": "code",
   "execution_count": 13,
   "id": "ef264d03-ccaf-4747-b247-5dbb954f7e62",
   "metadata": {},
   "outputs": [
    {
     "name": "stdout",
     "output_type": "stream",
     "text": [
      "1\n"
     ]
    }
   ],
   "source": [
    "print(6//5)"
   ]
  },
  {
   "cell_type": "code",
   "execution_count": 16,
   "id": "fd90a901-ce80-4989-b33c-18345df8a6f0",
   "metadata": {},
   "outputs": [
    {
     "name": "stdout",
     "output_type": "stream",
     "text": [
      "2\n"
     ]
    }
   ],
   "source": [
    "print(12%5)"
   ]
  },
  {
   "cell_type": "markdown",
   "id": "d506119b-6b40-45e6-8091-ff99f2737344",
   "metadata": {},
   "source": [
    "# Parenthese, Exponentials,  Multiplication,  Division,  Addition, Subtraction"
   ]
  },
  {
   "cell_type": "code",
   "execution_count": 17,
   "id": "4539a32f-3f2a-4b51-9c92-7ab45bd55336",
   "metadata": {},
   "outputs": [],
   "source": [
    "x = 2**3+4/3+(6-2)"
   ]
  },
  {
   "cell_type": "code",
   "execution_count": 18,
   "id": "74c4d1a2-f5dd-4899-9e1e-1694ee84e540",
   "metadata": {},
   "outputs": [
    {
     "name": "stdout",
     "output_type": "stream",
     "text": [
      "13.333333333333334\n"
     ]
    }
   ],
   "source": [
    "print(x)"
   ]
  },
  {
   "cell_type": "code",
   "execution_count": 19,
   "id": "7454321d-c91b-4e03-b8fd-535e855bf4fb",
   "metadata": {},
   "outputs": [],
   "source": [
    "from random import randint"
   ]
  },
  {
   "cell_type": "code",
   "execution_count": 30,
   "id": "20a69933-c479-4958-a7cd-e3497e0b1e07",
   "metadata": {},
   "outputs": [
    {
     "name": "stdout",
     "output_type": "stream",
     "text": [
      "10\n"
     ]
    }
   ],
   "source": [
    "print(randint(1,20))"
   ]
  },
  {
   "cell_type": "code",
   "execution_count": 31,
   "id": "b1fa4bb2-2e91-403d-bb09-9e6f46a51f73",
   "metadata": {},
   "outputs": [],
   "source": [
    "import math"
   ]
  },
  {
   "cell_type": "code",
   "execution_count": 33,
   "id": "80fe0141-477a-4984-898b-db729d9f0be1",
   "metadata": {},
   "outputs": [],
   "source": [
    "from math import ceil, sqrt, pi"
   ]
  },
  {
   "cell_type": "code",
   "execution_count": 41,
   "id": "d64418f7-f8a8-45e4-b2aa-7ea577495f41",
   "metadata": {},
   "outputs": [
    {
     "name": "stdout",
     "output_type": "stream",
     "text": [
      "452.3893421169302\n"
     ]
    }
   ],
   "source": [
    "print(pi*(12**2))"
   ]
  },
  {
   "cell_type": "markdown",
   "id": "b32e386e-63d3-4f70-8d60-a4008d582c47",
   "metadata": {},
   "source": [
    "# x = (-b+/-sqrt(b**2-4ac))/2*a"
   ]
  },
  {
   "cell_type": "code",
   "execution_count": 60,
   "id": "8c643313-73e6-40ac-96b0-ec32d3695fea",
   "metadata": {},
   "outputs": [
    {
     "name": "stdin",
     "output_type": "stream",
     "text": [
      "Enter value of a, b and c separated by commas:  2,5,-3\n"
     ]
    }
   ],
   "source": [
    "#Get value of a, b and c from users sparated by comma\n",
    "abc = input(\"Enter value of a, b and c separated by commas: \")\n",
    "\n",
    "#Split the input string into a list of strings\n",
    "abc_Str_List = abc.split(',')\n",
    "\n",
    "#Convert the list of strings to a list of integers\n",
    "abc_Int_List = [int(num) for num in abc_Str_List]\n",
    "\n",
    "#print(abc_Int_List)"
   ]
  },
  {
   "cell_type": "code",
   "execution_count": 61,
   "id": "07284dd2-ef3e-4cce-bd08-aa15b2ad2dd7",
   "metadata": {},
   "outputs": [],
   "source": [
    "a = abc_Int_List[0]\n",
    "b = abc_Int_List[1]\n",
    "c = abc_Int_List[2]\n",
    "#print(a,b,c)"
   ]
  },
  {
   "cell_type": "code",
   "execution_count": 62,
   "id": "a16819ad-8038-4a49-b091-7aa40c437114",
   "metadata": {},
   "outputs": [
    {
     "name": "stdout",
     "output_type": "stream",
     "text": [
      "X  = 0.5 or -3.0\n"
     ]
    }
   ],
   "source": [
    "bSquare = b**2\n",
    "fourAC = 4*a*c\n",
    "inSqrt = bSquare - fourAC\n",
    "outSqrt = sqrt(inSqrt)\n",
    "nume1 = -b+outSqrt\n",
    "nume2 = -b-outSqrt\n",
    "deNum = 2*a\n",
    "x1 = nume1/deNum\n",
    "x2 = nume2/deNum\n",
    "print(f\"X  = {x1} or {x2}\")"
   ]
  },
  {
   "cell_type": "code",
   "execution_count": null,
   "id": "1e84ea19-0016-4070-9df4-553f90976124",
   "metadata": {},
   "outputs": [],
   "source": []
  }
 ],
 "metadata": {
  "kernelspec": {
   "display_name": "Python 3 (ipykernel)",
   "language": "python",
   "name": "python3"
  },
  "language_info": {
   "codemirror_mode": {
    "name": "ipython",
    "version": 3
   },
   "file_extension": ".py",
   "mimetype": "text/x-python",
   "name": "python",
   "nbconvert_exporter": "python",
   "pygments_lexer": "ipython3",
   "version": "3.11.4"
  }
 },
 "nbformat": 4,
 "nbformat_minor": 5
}
