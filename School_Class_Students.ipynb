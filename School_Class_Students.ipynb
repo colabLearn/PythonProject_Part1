{
 "cells": [
  {
   "cell_type": "markdown",
   "id": "27b3fe09-17a3-44b9-b9bf-ba41c729ab63",
   "metadata": {},
   "source": [
    "#### School-Class-Student Exercise "
   ]
  },
  {
   "cell_type": "code",
   "execution_count": 3,
   "id": "f3af3cc1-a81e-419a-9874-b8037e97269a",
   "metadata": {
    "tags": []
   },
   "outputs": [],
   "source": [
    "##Declare Dictionary of Classes in school--> Key and \n",
    "##list of students in the each class---> Value\n",
    "Class_Stud = { }\n",
    "##List of the classes' type that is in the school\n",
    "classList = [\"S1\", \"S2\", \"S3\", \"S4\"]"
   ]
  },
  {
   "cell_type": "code",
   "execution_count": 5,
   "id": "f620a6c6-442c-4c00-803c-e8e57cfef359",
   "metadata": {
    "tags": []
   },
   "outputs": [
    {
     "name": "stdout",
     "output_type": "stream",
     "text": [
      "{'S1': [], 'S2': [], 'S3': [], 'S4': []}\n"
     ]
    }
   ],
   "source": [
    "## Initialize the Class_Stud dictionary with the \n",
    "## list of classes(key) and empty list of students\n",
    "for l in classList:\n",
    "    Class_Stud[l]=[]\n",
    "print(Class_Stud)"
   ]
  },
  {
   "cell_type": "code",
   "execution_count": 25,
   "id": "c45073e8-ce79-4f42-850a-5d52df3c091c",
   "metadata": {
    "tags": []
   },
   "outputs": [
    {
     "name": "stdin",
     "output_type": "stream",
     "text": [
      "Enter 1: To add student(s) to a class\n",
      "Enter 0: to exist the system \n",
      " : 1\n",
      "List of existing classes: S1, S2, S3, S4.\n",
      "Please enter the class into which you want to add student(s) : S2\n",
      "Add list of names separated by ','.\n",
      " For example: 'John Bruce, Adekunle Adeniran:  Kar Kuil, Kuli J, Bang soup\n"
     ]
    },
    {
     "name": "stdout",
     "output_type": "stream",
     "text": [
      "Student's Name Successfully Entered\n"
     ]
    }
   ],
   "source": [
    "import time\n",
    "#The following code prompt user to add students' name to any of the classes\n",
    "\n",
    "##while loop to implement infinite loop of prompt until user chose to exit\n",
    "while(True):\n",
    "    #while loop 1 start\n",
    "    #==========================\n",
    "    try:\n",
    "        #try to get user option to add student to class or exit\n",
    "        add_exit = int(input(\"Enter 1: To add student(s) to a class\"\n",
    "                             \"\\nEnter 0: to exist the system \\n :\"))\n",
    "    except ValueError:\n",
    "        #This block execute if user entery is not a valid integer\n",
    "        ##Note that any input that is a valid integer, even if it is not 1 or 0,\n",
    "        ## will be valid at this stage\n",
    "        ##Prompt user to enter a valid input:\n",
    "        print(\"Invalid input: Please enter integer 1 0r 0\")\n",
    "        ## If this block execute, that is, invalid input by user\n",
    "        ## then the loop should continue without executing the preceeding statements\n",
    "        continue\n",
    "    #The statement gets here because the user input is a valid integer]\n",
    "    #Next if test if the user input is 1\n",
    "    if add_exit==1: #Decision-Statement 1=1\n",
    "        #This block execute if user input is 1, that is, \n",
    "        #user wants to add student(s) to a class.\n",
    "        ##Prompt the user for the class they wish to add student(s) to\n",
    "        classToAdd = input(\"List of existing classes: S1, S2, S3, S4.\\n\"\n",
    "                           \"Please enter the class into which you want to add student(s) :\")\n",
    "        ##Check if the user entry is a valide class in the school\n",
    "        while(classToAdd.upper() not in Class_Stud):\n",
    "        #while loop 2 start\n",
    "        #==========================\n",
    "            ##The while block execute because the class entered by user\n",
    "            ## is not in the list of existing classes in the school record\n",
    "            ## Prompt the user for valid class to enter student(s) name and\n",
    "            ## provide option to exit the system in case the want to.\n",
    "            print(classToAdd + \" is not in list of existing classes\")\n",
    "            classToAdd = input(\"Please enter a class from the list: S1, S2, S3, S4 \"\n",
    "                               \"\\n or enter 0 to quit adding student to class: \")\n",
    "            \n",
    "            #Check in case user choose to exit the system without entring any student name\n",
    "            if(classToAdd.strip()==\"0\"): ##Decision-statement 2 ==0\n",
    "                ##This block execute because user choose to exit\n",
    "                ## break out of while loop 2\n",
    "                print(\"Breaking out of while loop 2\")\n",
    "                break\n",
    "            \n",
    "        if(classToAdd.strip()==\"0\"): ##Decision statement 3 (to exit the outer while loop because Decision-statement 2==0) \n",
    "            ##This block execute because user choose to exit\n",
    "            print(\"Exiting the system ...\")\n",
    "            ##Some fanciful exiting... ...\n",
    "            for _ in range(5):\n",
    "                print(\".\", end=\"\", flush=True)\n",
    "                # import time is required to use this time fucntion\n",
    "                time.sleep(0.1)  # Delay for 100 milliseconds\n",
    "            print(\"\\nBye....!\")\n",
    "            ##Break out of while loop 1\n",
    "            break\n",
    "        else:   ##Decision-statement 2 == \"Valid Class to add to\"\n",
    "            ##This blok execute because the user as chooses to add student to a valid class\n",
    "            ##Prompt user how to add list of students and get user entry\n",
    "            tempList= input(\"Add list of names separated by ','.\" \n",
    "                            \"\\n For example: 'John Bruce, Adekunle Adeniran: \")\n",
    "            \n",
    "            #Slip user entry into list of entered names and strip any leading and trailing spaces\n",
    "            nameList = [n.strip() for n in tempList.split(\",\") if n.strip() !=\"\"]\n",
    "                \n",
    "            #Add entered names to the class selected\n",
    "            Class_Stud[classToAdd.upper()].extend(nameList)\n",
    "                \n",
    "            #tell the user that the list is successully added\n",
    "            print(\"Student's Name Successfully Entered\")\n",
    "            break   \n",
    "    elif add_exit==0: ##Decision-Statment 1==0\n",
    "            ##This block execute because user choose to exit in the first prompt\n",
    "            print(\"Exiting the system ...\")\n",
    "            ##Some fanciful exiting... ...\n",
    "            for _ in range(5):\n",
    "                print(\".\", end=\"\", flush=True)\n",
    "                # import time is required to use this time fucntion\n",
    "                time.sleep(0.1)  # Delay for 100 milliseconds\n",
    "            print(\"\\nBye....!\")\n",
    "            break\n",
    "    else: ##Decision-Statment 1== \"invalid input: any input aside 1 or 0\"\n",
    "        #Prompt the user that the input is not valid and they should enter a valid input\n",
    "            print(\"Invalid input. Please enter either 1 to add student to a class or 0 to exit\") \n",
    "    \n",
    "    #=============================== \n",
    "    #while loop 1 terminates\n",
    "    "
   ]
  },
  {
   "cell_type": "code",
   "execution_count": 45,
   "id": "55ad60ba-002a-48ab-974d-1e6113f81152",
   "metadata": {
    "tags": []
   },
   "outputs": [
    {
     "name": "stdin",
     "output_type": "stream",
     "text": [
      "Enter the class for which you want to print list of students \n",
      "List of classes: S1, S2, S3, S4:  S1\n"
     ]
    },
    {
     "name": "stdout",
     "output_type": "stream",
     "text": [
      "============================================\n",
      "List of students in class S1:\n",
      "============================================\n",
      "Ade Ade\n",
      "John Olu\n",
      "Ben Cruise\n",
      "Ade Ade\n",
      "Ben Ben\n",
      "Bum Bum\n"
     ]
    }
   ],
   "source": [
    "##Code in this cell print the list of students in a choosen class\n",
    "checkClass= input(\"Enter the class for which you want to print list of students \\n\"\n",
    "                  \"List of classes: S1, S2, S3, S4: \")\n",
    "print(\"============================================\")\n",
    "\n",
    "while(checkClass not in Class_Stud): ##While loop to ensure valid class is entered\n",
    "    print(checkClass + \" is not in list of classes\")\n",
    "    checkClass = input(\"Please enter a class from the list:S1, S2, S3, S5\"\n",
    "                       \"\\n or enter 0 to quit adding student to class: \")\n",
    "    if(checkClass.strip()==\"0\"): ##User option to quit\n",
    "        print(\"Exiting the system ...\")\n",
    "        ##Some fanciful exiting... ...\n",
    "        for _ in range(5):\n",
    "            print(\".\", end=\"\", flush=True)\n",
    "            # import time is required to use this time fucntion\n",
    "        time.sleep(0.1)  # Delay for 100 milliseconds\n",
    "        print(\"\\nBye....!\")\n",
    "        break\n",
    "if(checkClass.strip()!=\"0\"): ##When enter valid option\n",
    "    if len(Class_Stud[checkClass])==0:\n",
    "        print(\"No student added to class \"+ checkClass + \" yet\")\n",
    "    else:\n",
    "        print(\"List of students in class \"+checkClass + \":\")\n",
    "        print(\"============================================\")\n",
    "        for s in Class_Stud[checkClass]:\n",
    "            print(s)"
   ]
  },
  {
   "cell_type": "code",
   "execution_count": 44,
   "id": "ed4fc4d4-8698-4bdf-8d39-860fe9776e32",
   "metadata": {
    "tags": []
   },
   "outputs": [
    {
     "name": "stdout",
     "output_type": "stream",
     "text": [
      "   List of students in S1\n",
      "============================\n",
      "Ade Ade\n",
      "John Olu\n",
      "Ben Cruise\n",
      "Ade Ade\n",
      "Ben Ben\n",
      "Bum Bum\n",
      "****************************\n",
      "   List of students in S2\n",
      "============================\n",
      "Kar Kuil\n",
      "Kuli J\n",
      "Bang soup\n",
      "****************************\n",
      "No student added to class S3\n",
      "===============================\n",
      "No student added to class S4\n",
      "===============================\n"
     ]
    }
   ],
   "source": [
    "#This cell execute code that print list of students in the school\n",
    "#By printing list of students in each class\n",
    "##Iterate all the keys in the Class_stud dictionary\n",
    "###These are the label of existing classes in the school\n",
    "for k in Class_Stud:\n",
    "    if len(Class_Stud[k])==0:\n",
    "        \n",
    "        print(\"No student added to class \"+ k)\n",
    "        print(\"===============================\")\n",
    "    else:\n",
    "        print(\"   List of students in \"+ k )\n",
    "        print(\"============================\")\n",
    "        for s in Class_Stud[k]:\n",
    "            print(s) \n",
    "        print(\"****************************\")"
   ]
  },
  {
   "cell_type": "code",
   "execution_count": null,
   "id": "7e64ecba-c57f-4c26-84d8-c07292e243d8",
   "metadata": {},
   "outputs": [],
   "source": []
  }
 ],
 "metadata": {
  "kernelspec": {
   "display_name": "Python 3 (ipykernel)",
   "language": "python",
   "name": "python3"
  },
  "language_info": {
   "codemirror_mode": {
    "name": "ipython",
    "version": 3
   },
   "file_extension": ".py",
   "mimetype": "text/x-python",
   "name": "python",
   "nbconvert_exporter": "python",
   "pygments_lexer": "ipython3",
   "version": "3.11.5"
  }
 },
 "nbformat": 4,
 "nbformat_minor": 5
}
