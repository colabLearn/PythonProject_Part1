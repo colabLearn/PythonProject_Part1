{
 "cells": [
  {
   "cell_type": "markdown",
   "id": "2942ed0b-0d52-4d27-a2a9-ebecc94c5700",
   "metadata": {},
   "source": [
    "# String is Python data type that deals with text"
   ]
  },
  {
   "cell_type": "code",
   "execution_count": 1,
   "id": "1c64a9ab-3ffd-4694-9c2d-cd2844b3e931",
   "metadata": {},
   "outputs": [],
   "source": [
    "name = \"John\"\n",
    "name2 = 'Jane'"
   ]
  },
  {
   "cell_type": "code",
   "execution_count": 5,
   "id": "d628d204-6fd9-4fa7-9d78-0559ee801217",
   "metadata": {},
   "outputs": [
    {
     "name": "stdout",
     "output_type": "stream",
     "text": [
      "<class 'str'> <class 'str'>\n"
     ]
    }
   ],
   "source": [
    "print(type(name), type(name2))"
   ]
  },
  {
   "cell_type": "code",
   "execution_count": 6,
   "id": "86f67297-f502-4730-a898-ae0010025c23",
   "metadata": {},
   "outputs": [],
   "source": [
    "multiLineVar = '''This is a multiline text\n",
    "assigned to a multiline sting variable'''"
   ]
  },
  {
   "cell_type": "code",
   "execution_count": 7,
   "id": "8e23ee28-9f3a-4edb-a96c-727fa5569e7b",
   "metadata": {},
   "outputs": [
    {
     "name": "stdout",
     "output_type": "stream",
     "text": [
      "This is a multiline text\n",
      "assigned to a multiline sting variable\n"
     ]
    }
   ],
   "source": [
    "print(multiLineVar)"
   ]
  },
  {
   "cell_type": "code",
   "execution_count": 8,
   "id": "fd809e18-d275-4170-b88f-b5bd25c3428e",
   "metadata": {},
   "outputs": [
    {
     "name": "stdin",
     "output_type": "stream",
     "text": [
      "Please enter your name:  Adetunji \n"
     ]
    }
   ],
   "source": [
    "name  = input(\"Please enter your name: \")"
   ]
  },
  {
   "cell_type": "code",
   "execution_count": 9,
   "id": "1fd80b8d-d719-4ac1-8981-996e3d90c579",
   "metadata": {},
   "outputs": [
    {
     "name": "stdout",
     "output_type": "stream",
     "text": [
      "Adetunji \n"
     ]
    }
   ],
   "source": [
    "print(name)"
   ]
  },
  {
   "cell_type": "code",
   "execution_count": 20,
   "id": "d3f54422-f8d9-4014-a4f1-577a35ebc7dd",
   "metadata": {},
   "outputs": [
    {
     "name": "stdin",
     "output_type": "stream",
     "text": [
      "Enter any number, this will be seen as string type:  23\n"
     ]
    }
   ],
   "source": [
    "number = int( input(\"Enter any number, this will be seen as string type: \"))"
   ]
  },
  {
   "cell_type": "code",
   "execution_count": 18,
   "id": "2df9defa-ccaf-4923-9695-f0a504891331",
   "metadata": {},
   "outputs": [
    {
     "name": "stdout",
     "output_type": "stream",
     "text": [
      "<class 'float'>\n"
     ]
    }
   ],
   "source": [
    "print(type(number))"
   ]
  },
  {
   "cell_type": "markdown",
   "id": "12629828-f817-42df-882b-575495013271",
   "metadata": {},
   "source": [
    "# Concatenation "
   ]
  },
  {
   "cell_type": "code",
   "execution_count": 21,
   "id": "05bc7cef-c1b3-4fff-9e4a-f971d2545f45",
   "metadata": {},
   "outputs": [],
   "source": [
    "firstName = \"John\"\n",
    "lastName = \"Bruce\"\n",
    "fullName = firstName + \" \" + lastName"
   ]
  },
  {
   "cell_type": "code",
   "execution_count": 22,
   "id": "cd2923ab-7973-49fa-8347-d098d0e93fd3",
   "metadata": {},
   "outputs": [
    {
     "name": "stdout",
     "output_type": "stream",
     "text": [
      "John Bruce\n"
     ]
    }
   ],
   "source": [
    "print(fullName)"
   ]
  },
  {
   "cell_type": "code",
   "execution_count": 24,
   "id": "0e1d54fc-d1f1-4def-a65c-d1e252090869",
   "metadata": {},
   "outputs": [
    {
     "name": "stdout",
     "output_type": "stream",
     "text": [
      "3\n"
     ]
    }
   ],
   "source": [
    "num1 =1\n",
    "num2 = 2\n",
    "num3 = num1 + num2\n",
    "print(num3)"
   ]
  },
  {
   "cell_type": "code",
   "execution_count": 25,
   "id": "a1439e63-c6d4-42ec-9320-d56f8dab94ed",
   "metadata": {},
   "outputs": [
    {
     "name": "stdout",
     "output_type": "stream",
     "text": [
      "******************\n",
      "*                *\n",
      "* Happy Birthday *\n",
      "*                *\n",
      "******************\n"
     ]
    }
   ],
   "source": [
    "print(\"*\" * 18)\n",
    "print(\"*\"+ \" \"*16+ \"*\")\n",
    "print(\"*\" \" Happy Birthday \" + \"*\")\n",
    "print(\"*\"+ \" \"*16+ \"*\")\n",
    "print(\"*\" * 18)"
   ]
  },
  {
   "cell_type": "code",
   "execution_count": null,
   "id": "2a552592-349d-45f6-96d6-249af15c12b5",
   "metadata": {},
   "outputs": [],
   "source": [
    "# Get vowels in the user entered word\n",
    "t = ''\n",
    "entry = input('Please enter a word: ')\n",
    "count = 0\n",
    "for i in (entry):\n",
    "    if i=='e' or i=='o' or i=='a' or i=='u' or i=='A' or i=='O' or i=='E' or i=='U':\n",
    "        t = t+i\n",
    "        count = count+1\n",
    "\n",
    "print('Number of vowels in the entry is: ', count)\n",
    "print('The vowels are: ', t)"
   ]
  },
  {
   "cell_type": "markdown",
   "id": "caaedd6d-c90d-48a2-bec5-d866b1e55a58",
   "metadata": {},
   "source": [
    "# INDEXING"
   ]
  },
  {
   "cell_type": "code",
   "execution_count": 30,
   "id": "cc38f446-aba6-4a98-86fe-ffd0967da785",
   "metadata": {},
   "outputs": [
    {
     "name": "stdout",
     "output_type": "stream",
     "text": [
      "P\n",
      "y\n",
      "n\n",
      "P\n"
     ]
    }
   ],
   "source": [
    "s = 'Python'\n",
    "print(s[0]) #first character in the string\n",
    "print(s[1]) #second character in the string\n",
    "print(s[-1]) #Takes the last character of the string\n",
    "print(s[-6]) #Take the second to the last charcter in the string"
   ]
  },
  {
   "cell_type": "code",
   "execution_count": 31,
   "id": "a67fe9d3-061a-492c-bccf-8b4b86b18035",
   "metadata": {},
   "outputs": [
    {
     "ename": "IndexError",
     "evalue": "string index out of range",
     "output_type": "error",
     "traceback": [
      "\u001b[1;31m---------------------------------------------------------------------------\u001b[0m",
      "\u001b[1;31mIndexError\u001b[0m                                Traceback (most recent call last)",
      "Cell \u001b[1;32mIn[31], line 2\u001b[0m\n\u001b[0;32m      1\u001b[0m \u001b[38;5;66;03m# IndexError: string index out of range\u001b[39;00m\n\u001b[1;32m----> 2\u001b[0m \u001b[38;5;28mprint\u001b[39m(\u001b[43ms\u001b[49m\u001b[43m[\u001b[49m\u001b[38;5;241;43m6\u001b[39;49m\u001b[43m]\u001b[49m)\n",
      "\u001b[1;31mIndexError\u001b[0m: string index out of range"
     ]
    }
   ],
   "source": [
    "# IndexError: string index out of range\n",
    "print(s[6])"
   ]
  },
  {
   "cell_type": "markdown",
   "id": "4110ad0d-478b-446f-ba0e-2c436b3702c7",
   "metadata": {},
   "source": [
    "# s[0]->P, s[1]->y, s[2]->t, s[3]->h, s[4]->o, s[5]->n"
   ]
  },
  {
   "cell_type": "markdown",
   "id": "598e7414-0b4c-4621-aaf1-5676bce50993",
   "metadata": {},
   "source": [
    "# Slicing"
   ]
  },
  {
   "cell_type": "code",
   "execution_count": 40,
   "id": "9d6949ae-7323-424d-88ab-77495a6e3912",
   "metadata": {},
   "outputs": [
    {
     "name": "stdout",
     "output_type": "stream",
     "text": [
      "cde\n",
      "abcde\n",
      "fghij\n",
      "ij\n",
      "abcdefghij\n",
      "beh\n"
     ]
    }
   ],
   "source": [
    "alph_a_to_j = 'abcdefghij'\n",
    "print(alph_a_to_j[2:5]) #Print character at index 2,3,4\n",
    "print(alph_a_to_j[ :5])\n",
    "print(alph_a_to_j[ 5: ])\n",
    "print(alph_a_to_j[ -2: ])\n",
    "print(alph_a_to_j[ : ])\n",
    "print(alph_a_to_j[ 1:9: 3])"
   ]
  },
  {
   "cell_type": "code",
   "execution_count": 34,
   "id": "f8ed4234-1b19-4d08-a214-95c3a88009fa",
   "metadata": {},
   "outputs": [
    {
     "name": "stdout",
     "output_type": "stream",
     "text": [
      "Python\n"
     ]
    }
   ],
   "source": [
    "print(s)"
   ]
  },
  {
   "cell_type": "code",
   "execution_count": 35,
   "id": "a64211af-befe-4bf8-ba32-fbe79f4e52c4",
   "metadata": {},
   "outputs": [],
   "source": [
    "s = s[:4]+ 'X' + s[5:]"
   ]
  },
  {
   "cell_type": "code",
   "execution_count": 36,
   "id": "4f41f1f1-a552-486f-9985-d88412861e9e",
   "metadata": {},
   "outputs": [
    {
     "name": "stdout",
     "output_type": "stream",
     "text": [
      "PythXn\n"
     ]
    }
   ],
   "source": [
    "print(s)"
   ]
  },
  {
   "cell_type": "code",
   "execution_count": 37,
   "id": "c34d792a-6478-4c2a-a200-e9d49bda28f7",
   "metadata": {},
   "outputs": [
    {
     "name": "stdout",
     "output_type": "stream",
     "text": [
      "6\n"
     ]
    }
   ],
   "source": [
    "print(len(s))"
   ]
  },
  {
   "cell_type": "code",
   "execution_count": 38,
   "id": "2353c1e6-4ccf-4392-8f46-4e065aacd100",
   "metadata": {},
   "outputs": [
    {
     "name": "stdout",
     "output_type": "stream",
     "text": [
      "P\n",
      "y\n",
      "t\n",
      "h\n",
      "X\n",
      "n\n"
     ]
    }
   ],
   "source": [
    "for i in range(len(s)):\n",
    "    print(s[i])"
   ]
  },
  {
   "cell_type": "code",
   "execution_count": null,
   "id": "8b66fc88-64dc-47e6-975c-7de0c7522f94",
   "metadata": {},
   "outputs": [],
   "source": []
  }
 ],
 "metadata": {
  "kernelspec": {
   "display_name": "Python 3 (ipykernel)",
   "language": "python",
   "name": "python3"
  },
  "language_info": {
   "codemirror_mode": {
    "name": "ipython",
    "version": 3
   },
   "file_extension": ".py",
   "mimetype": "text/x-python",
   "name": "python",
   "nbconvert_exporter": "python",
   "pygments_lexer": "ipython3",
   "version": "3.11.4"
  }
 },
 "nbformat": 4,
 "nbformat_minor": 5
}
