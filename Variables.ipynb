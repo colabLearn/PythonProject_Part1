{
 "cells": [
  {
   "cell_type": "markdown",
   "id": "372c4df2-5a38-45b8-ab34-1ea0a9efd97c",
   "metadata": {},
   "source": [
    "# Variables\n",
    "## They a like container\n",
    "## They represent storage locations in a computer memory\n",
    "## The values held in variables can be manipulated and changed during program execution \n",
    "## They help in storing and retrieving the values, enabling program to work on them dynamically.\n",
    "## They give context to the values that they hold."
   ]
  },
  {
   "cell_type": "code",
   "execution_count": 13,
   "id": "9f6d67c7-eeb8-45a3-b0b3-c5645278f79f",
   "metadata": {},
   "outputs": [
    {
     "name": "stdout",
     "output_type": "stream",
     "text": [
      "2\n"
     ]
    }
   ],
   "source": [
    "numberOfSudents = 2\n",
    "print(numberOfSudents)"
   ]
  },
  {
   "cell_type": "code",
   "execution_count": 15,
   "id": "254b340c-de73-4c71-8b48-57db1990e208",
   "metadata": {},
   "outputs": [
    {
     "name": "stdout",
     "output_type": "stream",
     "text": [
      "3\n"
     ]
    }
   ],
   "source": [
    "numberOfSudents = numberOfSudents +1\n",
    "print(numberOfSudents)"
   ]
  },
  {
   "cell_type": "code",
   "execution_count": 16,
   "id": "3cf85837-998a-47c3-bc78-6e33e2cd0ad0",
   "metadata": {},
   "outputs": [
    {
     "name": "stdout",
     "output_type": "stream",
     "text": [
      "4\n"
     ]
    }
   ],
   "source": [
    "numberOfSudents +=1\n",
    "#numberOfSudents = numberOfSudents +1\n",
    "print(numberOfSudents)"
   ]
  },
  {
   "cell_type": "code",
   "execution_count": 17,
   "id": "f1ad51ed-4a5e-4cad-a934-a6eb0b29c0d9",
   "metadata": {},
   "outputs": [
    {
     "name": "stdout",
     "output_type": "stream",
     "text": [
      "<class 'int'>\n"
     ]
    }
   ],
   "source": [
    "print(type(numberOfSudents))"
   ]
  },
  {
   "cell_type": "code",
   "execution_count": 18,
   "id": "88b4a441-fbae-42e4-88e3-8563103303c6",
   "metadata": {},
   "outputs": [
    {
     "name": "stdout",
     "output_type": "stream",
     "text": [
      "<class 'float'>\n"
     ]
    }
   ],
   "source": [
    "tempValue = 65.7\n",
    "print(type(tempValue))"
   ]
  },
  {
   "cell_type": "code",
   "execution_count": 19,
   "id": "7eddbaa0-abdc-4f2f-ba33-840e1091ce26",
   "metadata": {},
   "outputs": [
    {
     "name": "stdout",
     "output_type": "stream",
     "text": [
      "<class 'str'> <class 'str'> <class 'str'>\n"
     ]
    }
   ],
   "source": [
    "firstName = \"John\"\n",
    "lastName = \"Bruce\"\n",
    "fullName = firstName + \" \" + lastName\n",
    "print(type(firstName), type(lastName), type(fullName))"
   ]
  },
  {
   "cell_type": "code",
   "execution_count": 20,
   "id": "362a69a1-d3ec-47ec-b709-81843b1fd423",
   "metadata": {},
   "outputs": [
    {
     "name": "stdout",
     "output_type": "stream",
     "text": [
      "John Bruce\n"
     ]
    }
   ],
   "source": [
    "print(fullName)"
   ]
  },
  {
   "cell_type": "code",
   "execution_count": 22,
   "id": "0ca30269-3f7c-4963-9941-20b6340f0a11",
   "metadata": {},
   "outputs": [
    {
     "name": "stdout",
     "output_type": "stream",
     "text": [
      "20\n",
      "<class 'int'> <class 'int'> <class 'int'>\n"
     ]
    }
   ],
   "source": [
    "textNum = 10\n",
    "textNum2 = 10\n",
    "textNumAdd =  textNum + textNum2\n",
    "print(textNumAdd)\n",
    "print(type(textNum), type(textNum2), type(textNumAdd))"
   ]
  },
  {
   "cell_type": "code",
   "execution_count": 23,
   "id": "db51a2df-121c-47b5-9e90-9d17737f3fea",
   "metadata": {},
   "outputs": [
    {
     "name": "stdout",
     "output_type": "stream",
     "text": [
      "<class 'list'>\n"
     ]
    }
   ],
   "source": [
    "myNameList = [\"John\", \"Joel\", \"Jude\", \"Joseph\"]\n",
    "print(type(myNameList))"
   ]
  },
  {
   "cell_type": "code",
   "execution_count": 24,
   "id": "67a80518-43ba-48a3-9d02-31a0544c9553",
   "metadata": {},
   "outputs": [
    {
     "name": "stdout",
     "output_type": "stream",
     "text": [
      "Joseph\n"
     ]
    }
   ],
   "source": [
    "print(myNameList[3])"
   ]
  },
  {
   "cell_type": "code",
   "execution_count": null,
   "id": "b8bf7294-0578-4c5d-82d1-ee679bdbe527",
   "metadata": {},
   "outputs": [],
   "source": []
  }
 ],
 "metadata": {
  "kernelspec": {
   "display_name": "Python 3 (ipykernel)",
   "language": "python",
   "name": "python3"
  },
  "language_info": {
   "codemirror_mode": {
    "name": "ipython",
    "version": 3
   },
   "file_extension": ".py",
   "mimetype": "text/x-python",
   "name": "python",
   "nbconvert_exporter": "python",
   "pygments_lexer": "ipython3",
   "version": "3.11.4"
  }
 },
 "nbformat": 4,
 "nbformat_minor": 5
}
