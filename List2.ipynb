{
 "cells": [
  {
   "cell_type": "code",
   "execution_count": 11,
   "id": "ee602445-568f-4476-ad5b-8367b973bc6b",
   "metadata": {
    "tags": []
   },
   "outputs": [],
   "source": [
    "\n",
    "names =  ['Tango', 'Bob', 'Sue', 'Sally']"
   ]
  },
  {
   "cell_type": "code",
   "execution_count": 12,
   "id": "92f1b61d-6530-49f2-b376-ea162e305f8b",
   "metadata": {
    "tags": []
   },
   "outputs": [],
   "source": [
    "from random import choice"
   ]
  },
  {
   "cell_type": "code",
   "execution_count": 19,
   "id": "5c3ba1c6-b3ed-401f-b9bb-3754af33970a",
   "metadata": {
    "tags": []
   },
   "outputs": [
    {
     "name": "stdout",
     "output_type": "stream",
     "text": [
      "Sue\n"
     ]
    }
   ],
   "source": [
    "randName = choice(names)\n",
    "print(randName)"
   ]
  },
  {
   "cell_type": "code",
   "execution_count": 20,
   "id": "e22d5497-21eb-48ab-a989-f78c62e37fc4",
   "metadata": {
    "tags": []
   },
   "outputs": [
    {
     "name": "stdout",
     "output_type": "stream",
     "text": [
      "!o4nlewrc#d%o6qsj5w)te5pkrb2k8uk)kc59^6v2a6sy(9%g@$(5im0me(s2uokry4wett9**&woqsrue#k^r#(5i68r)l$w)k3"
     ]
    }
   ],
   "source": [
    "s='abcdefghijklmnopqrstuvwxyz1234567890!@#$%^&*()'\n",
    "for i in range(100):\n",
    "    print(choice(s), end='')"
   ]
  },
  {
   "cell_type": "markdown",
   "id": "3a3c36ab-d663-47e3-8ce0-4f7ff6aa13b3",
   "metadata": {},
   "source": [
    "# sample(myList, n) ---> picks a group of n random items from myList"
   ]
  },
  {
   "cell_type": "code",
   "execution_count": 21,
   "id": "864a33f3-bab6-4cf0-8288-e2f40be91ccc",
   "metadata": {
    "tags": []
   },
   "outputs": [],
   "source": [
    "from random import sample"
   ]
  },
  {
   "cell_type": "code",
   "execution_count": 26,
   "id": "409a9243-7104-413b-b69d-14d19869816a",
   "metadata": {
    "tags": []
   },
   "outputs": [],
   "source": [
    "teamOfTwo = sample(names, 2)"
   ]
  },
  {
   "cell_type": "code",
   "execution_count": 27,
   "id": "70e0dbaa-33db-4ea0-946a-979aa9effa98",
   "metadata": {
    "tags": []
   },
   "outputs": [
    {
     "name": "stdout",
     "output_type": "stream",
     "text": [
      "['Bob', 'Sally']\n"
     ]
    }
   ],
   "source": [
    "print(teamOfTwo)"
   ]
  },
  {
   "cell_type": "markdown",
   "id": "bb7e0392-b3ec-4346-a59b-308549c73800",
   "metadata": {},
   "source": [
    "# shuffle(myList) ---> Shuffles the item of myList"
   ]
  },
  {
   "cell_type": "code",
   "execution_count": 30,
   "id": "447aba38-dd46-47fe-b8ae-7b57bcd42669",
   "metadata": {
    "tags": []
   },
   "outputs": [],
   "source": [
    "from random import shuffle\n",
    "\n",
    "shuffle(names)"
   ]
  },
  {
   "cell_type": "code",
   "execution_count": 31,
   "id": "2b9636ac-e4f3-485e-add1-b143b18b6ae6",
   "metadata": {
    "tags": []
   },
   "outputs": [
    {
     "name": "stdout",
     "output_type": "stream",
     "text": [
      "['Tango', 'Sue', 'Bob', 'Sally']\n"
     ]
    }
   ],
   "source": [
    "print(names)"
   ]
  },
  {
   "cell_type": "code",
   "execution_count": 34,
   "id": "a0db61af-63b4-472d-95bf-b8533c7230ca",
   "metadata": {
    "tags": []
   },
   "outputs": [],
   "source": [
    "shuffle(names)\n",
    "teams = []\n",
    "for i in range(0, len(names), 2):\n",
    "    listOfTwos = [names[i], names[i+1]]\n",
    "    teams.append( listOfTwos)"
   ]
  },
  {
   "cell_type": "code",
   "execution_count": 35,
   "id": "ac0182e1-13ed-405a-b7f6-afde744de575",
   "metadata": {
    "tags": []
   },
   "outputs": [
    {
     "name": "stdout",
     "output_type": "stream",
     "text": [
      "[['Sally', 'Sue'], ['Tango', 'Bob']]\n"
     ]
    }
   ],
   "source": [
    "print(teams)"
   ]
  },
  {
   "cell_type": "code",
   "execution_count": 36,
   "id": "d56c3e6a-fee2-4bde-bd4e-8d07b8aa9961",
   "metadata": {
    "tags": []
   },
   "outputs": [],
   "source": [
    "sentence = \"My name is John Pedro, I am from Columbus Ohio\""
   ]
  },
  {
   "cell_type": "code",
   "execution_count": 37,
   "id": "071b7009-3967-466b-8bae-d1266da5d961",
   "metadata": {
    "tags": []
   },
   "outputs": [],
   "source": [
    "listOfWords = sentence.split()"
   ]
  },
  {
   "cell_type": "code",
   "execution_count": 38,
   "id": "220a93f7-c545-4731-9540-62f9db46aefc",
   "metadata": {
    "tags": []
   },
   "outputs": [
    {
     "name": "stdout",
     "output_type": "stream",
     "text": [
      "['My', 'name', 'is', 'John', 'Pedro,', 'I', 'am', 'from', 'Columbus', 'Ohio']\n"
     ]
    }
   ],
   "source": [
    "print(listOfWords)"
   ]
  },
  {
   "cell_type": "code",
   "execution_count": 45,
   "id": "3421c50f-157c-4866-8bfd-6cdaf23c47f5",
   "metadata": {
    "tags": []
   },
   "outputs": [],
   "source": [
    "from string import punctuation\n",
    "\n",
    "for c in punctuation:\n",
    "    sentence = sentence.replace(c, '')"
   ]
  },
  {
   "cell_type": "code",
   "execution_count": 46,
   "id": "72ec17de-1b37-4d9c-b574-7517fd938ce0",
   "metadata": {
    "tags": []
   },
   "outputs": [
    {
     "name": "stdout",
     "output_type": "stream",
     "text": [
      "My name is John Pedro I am from Columbus Ohio\n"
     ]
    }
   ],
   "source": [
    "print(sentence)"
   ]
  },
  {
   "cell_type": "code",
   "execution_count": 47,
   "id": "653a506f-fe44-4e01-991c-6fffde7d42a2",
   "metadata": {
    "tags": []
   },
   "outputs": [],
   "source": [
    "listOfWords= sentence.split()"
   ]
  },
  {
   "cell_type": "code",
   "execution_count": 48,
   "id": "514e2474-3dcf-47ad-9c31-cf23b6b22a53",
   "metadata": {
    "tags": []
   },
   "outputs": [
    {
     "name": "stdout",
     "output_type": "stream",
     "text": [
      "['My', 'name', 'is', 'John', 'Pedro', 'I', 'am', 'from', 'Columbus', 'Ohio']\n"
     ]
    }
   ],
   "source": [
    "print(listOfWords)"
   ]
  },
  {
   "cell_type": "code",
   "execution_count": 49,
   "id": "84de6d05-1929-4c5f-af81-a9313605e84e",
   "metadata": {
    "tags": []
   },
   "outputs": [
    {
     "name": "stdout",
     "output_type": "stream",
     "text": [
      "Yes\n"
     ]
    }
   ],
   "source": [
    "print(\"Yes\"  if 'Pedro' in listOfWords else \"No\")"
   ]
  },
  {
   "cell_type": "code",
   "execution_count": 66,
   "id": "6db4a6ce-23d2-4d35-b896-829a7dbb8148",
   "metadata": {
    "tags": []
   },
   "outputs": [],
   "source": [
    "textDoc = '''\n",
    "Python is a high-level programming language created by Guido van Rossum and first released in 1991. \n",
    "It is widely used for various purposes such as web development, data analysis, artificial intelligence, \n",
    "scientific computing, and more. Python's syntax is simple and easy to learn, making it a popular choice among \n",
    "beginners and experienced developers alike. The language emphasizes readability and productivity, with a large \n",
    "standard library that provides modules and packages for tasks ranging from file I/O to mathematical operations.\n",
    "One of Python's key features is its dynamic typing and automatic memory management, which allows developers to \n",
    "focus on solving problems rather than dealing with low-level details. Python supports multiple programming paradigms, \n",
    "including procedural, object-oriented, and functional programming. Its versatility and flexibility make it suitable for \n",
    "a wide range of applications, from small scripts to large-scale enterprise systems.\n",
    "The Python community is vibrant and active, with a vast ecosystem of third-party libraries and frameworks that extend the \n",
    "language's capabilities. Popular libraries like NumPy, pandas, matplotlib, and TensorFlow are widely used for data analysis, \n",
    "machine learning, and scientific computing. Additionally, frameworks like Django and Flask are popular choices for building \n",
    "web applications.\n",
    "In recent years, Python has seen significant growth in popularity, driven by its simplicity, versatility, and strong community \n",
    "support. It is consistently ranked as one of the top programming languages in various surveys and indices. As the demand for data \n",
    "analysis, machine learning, and artificial intelligence continues to rise, Python is expected to remain a dominant force in the world \n",
    "of programming for years to come.\n",
    "'''"
   ]
  },
  {
   "cell_type": "code",
   "execution_count": 67,
   "id": "08e13370-4f8e-4a98-aa5a-1e1d0720f774",
   "metadata": {
    "tags": []
   },
   "outputs": [],
   "source": [
    "for c in punctuation:\n",
    "    textDoc = textDoc.replace(c, '')"
   ]
  },
  {
   "cell_type": "code",
   "execution_count": 68,
   "id": "f9df831a-c58f-4326-a2f8-2c63f75cca4f",
   "metadata": {
    "tags": []
   },
   "outputs": [],
   "source": [
    "textDoc = textDoc.lower()"
   ]
  },
  {
   "cell_type": "code",
   "execution_count": 69,
   "id": "9d76915c-dc9c-4a0e-96c5-8411171229e7",
   "metadata": {
    "tags": []
   },
   "outputs": [],
   "source": [
    "#print(textDoc)\n",
    "textDocList = textDoc.split()"
   ]
  },
  {
   "cell_type": "code",
   "execution_count": 70,
   "id": "ba135fa0-4ddf-4f1c-b2cd-71c9395d9c53",
   "metadata": {
    "tags": []
   },
   "outputs": [],
   "source": [
    "uniqueListOfWord  = list(set(textDocList))"
   ]
  },
  {
   "cell_type": "code",
   "execution_count": 71,
   "id": "0eedb368-85b5-4907-b64a-d3ff28a4ba0c",
   "metadata": {
    "tags": []
   },
   "outputs": [],
   "source": [
    "numOfOccurence = []\n",
    "for uw in uniqueListOfWord:\n",
    "    numOfOccurence.append(textDocList.count(uw))"
   ]
  },
  {
   "cell_type": "code",
   "execution_count": 72,
   "id": "f5d8ae36-32e3-4d05-b003-54e1411e5219",
   "metadata": {
    "tags": []
   },
   "outputs": [
    {
     "name": "stdout",
     "output_type": "stream",
     "text": [
      "[2, 2, 1, 1, 1, 1, 1, 1, 7, 1, 5, 1, 1, 1, 1, 1, 1, 1, 1, 3, 1, 1, 1, 2, 1, 1, 1, 3, 2, 2, 1, 1, 1, 1, 2, 1, 1, 2, 1, 2, 1, 5, 4, 1, 2, 1, 1, 1, 1, 1, 1, 1, 1, 1, 2, 1, 1, 1, 1, 1, 7, 1, 2, 2, 1, 2, 2, 5, 1, 1, 1, 1, 1, 3, 1, 1, 2, 1, 1, 1, 1, 6, 1, 1, 1, 1, 1, 1, 1, 2, 1, 6, 1, 1, 1, 1, 1, 1, 1, 1, 7, 1, 2, 1, 1, 1, 1, 1, 1, 1, 1, 1, 1, 3, 1, 1, 1, 2, 1, 1, 2, 1, 1, 1, 1, 1, 1, 17, 2, 2, 1, 1, 1, 1, 2, 3, 1, 1, 1, 1, 1, 1, 1, 5, 2, 1, 3, 1, 1, 1, 1, 2, 2, 1, 2]\n"
     ]
    }
   ],
   "source": [
    "print(numOfOccurence)"
   ]
  },
  {
   "cell_type": "code",
   "execution_count": 73,
   "id": "2844c46c-55ba-4002-b9ed-63ffbf93d8f8",
   "metadata": {
    "tags": []
   },
   "outputs": [
    {
     "name": "stdout",
     "output_type": "stream",
     "text": [
      "years 2\n",
      "artificial 2\n",
      "first 1\n",
      "enterprise 1\n",
      "top 1\n",
      "small 1\n",
      "strong 1\n",
      "make 1\n",
      "for 7\n",
      "growth 1\n",
      "in 5\n",
      "ranging 1\n",
      "has 1\n",
      "rise 1\n",
      "file 1\n",
      "matplotlib 1\n",
      "highlevel 1\n",
      "recent 1\n",
      "pandas 1\n",
      "as 3\n",
      "systems 1\n",
      "range 1\n",
      "extend 1\n",
      "frameworks 2\n",
      "multiple 1\n",
      "rather 1\n",
      "features 1\n",
      "analysis 3\n",
      "computing 2\n",
      "intelligence 2\n",
      "indices 1\n",
      "remain 1\n",
      "functional 1\n",
      "purposes 1\n",
      "versatility 2\n",
      "numpy 1\n",
      "ecosystem 1\n",
      "widely 2\n",
      "building 1\n",
      "that 2\n",
      "choice 1\n",
      "of 5\n",
      "it 4\n",
      "syntax 1\n",
      "various 2\n",
      "than 1\n",
      "continues 1\n",
      "surveys 1\n",
      "van 1\n",
      "learn 1\n",
      "operations 1\n",
      "making 1\n",
      "ranked 1\n",
      "experienced 1\n",
      "learning 2\n",
      "library 1\n",
      "consistently 1\n",
      "force 1\n",
      "among 1\n",
      "driven 1\n",
      "is 7\n",
      "capabilities 1\n",
      "like 2\n",
      "web 2\n",
      "supports 1\n",
      "libraries 2\n",
      "are 2\n",
      "python 5\n",
      "alike 1\n",
      "suitable 1\n",
      "world 1\n",
      "automatic 1\n",
      "key 1\n",
      "data 3\n",
      "lowlevel 1\n",
      "modules 1\n",
      "from 2\n",
      "active 1\n",
      "on 1\n",
      "demand 1\n",
      "flask 1\n",
      "a 6\n",
      "choices 1\n",
      "which 1\n",
      "paradigms 1\n",
      "rossum 1\n",
      "focus 1\n",
      "support 1\n",
      "seen 1\n",
      "by 2\n",
      "django 1\n",
      "the 6\n",
      "scripts 1\n",
      "simple 1\n",
      "tensorflow 1\n",
      "additionally 1\n",
      "solving 1\n",
      "dynamic 1\n",
      "details 1\n",
      "guido 1\n",
      "to 7\n",
      "problems 1\n",
      "pythons 2\n",
      "allows 1\n",
      "vibrant 1\n",
      "such 1\n",
      "dealing 1\n",
      "wide 1\n",
      "productivity 1\n",
      "memory 1\n",
      "management 1\n",
      "released 1\n",
      "thirdparty 1\n",
      "its 3\n",
      "readability 1\n",
      "simplicity 1\n",
      "dominant 1\n",
      "language 2\n",
      "io 1\n",
      "largescale 1\n",
      "applications 2\n",
      "packages 1\n",
      "popularity 1\n",
      "more 1\n",
      "provides 1\n",
      "come 1\n",
      "procedural 1\n",
      "and 17\n",
      "developers 2\n",
      "languages 2\n",
      "including 1\n",
      "significant 1\n",
      "beginners 1\n",
      "mathematical 1\n",
      "scientific 2\n",
      "with 3\n",
      "standard 1\n",
      "expected 1\n",
      "flexibility 1\n",
      "easy 1\n",
      "1991 1\n",
      "large 1\n",
      "created 1\n",
      "programming 5\n",
      "one 2\n",
      "vast 1\n",
      "popular 3\n",
      "objectoriented 1\n",
      "typing 1\n",
      "emphasizes 1\n",
      "tasks 1\n",
      "community 2\n",
      "used 2\n",
      "development 1\n",
      "machine 2\n"
     ]
    }
   ],
   "source": [
    "for word, numOfOc in zip(uniqueListOfWord, numOfOccurence):\n",
    "    print(word, numOfOc)"
   ]
  },
  {
   "cell_type": "code",
   "execution_count": 74,
   "id": "4cbc2acd-48ff-4f71-9b3b-32562509d18f",
   "metadata": {
    "tags": []
   },
   "outputs": [
    {
     "name": "stdout",
     "output_type": "stream",
     "text": [
      "['1', '800', '271', '82812']\n"
     ]
    }
   ],
   "source": [
    "sNumber = \"1-800-271-82812\"\n",
    "numList = sNumber.split('-')\n",
    "print(numList)"
   ]
  },
  {
   "cell_type": "code",
   "execution_count": 75,
   "id": "e7b548ef-612a-402d-897c-2fb06f08f075",
   "metadata": {
    "tags": []
   },
   "outputs": [],
   "source": [
    "newNumber = \"\".join(numList)"
   ]
  },
  {
   "cell_type": "code",
   "execution_count": 76,
   "id": "78b83998-a885-4416-9d2f-5a1f6f488f9d",
   "metadata": {
    "tags": []
   },
   "outputs": [
    {
     "name": "stdout",
     "output_type": "stream",
     "text": [
      "180027182812\n"
     ]
    }
   ],
   "source": [
    "print(newNumber)"
   ]
  },
  {
   "cell_type": "code",
   "execution_count": 77,
   "id": "06a39b7a-e63e-4dfd-a609-53ca14ff195c",
   "metadata": {
    "tags": []
   },
   "outputs": [],
   "source": [
    "newNumber = \"-\".join(numList)"
   ]
  },
  {
   "cell_type": "code",
   "execution_count": 78,
   "id": "2409bda7-9225-4330-9c89-7a776d7ba0bc",
   "metadata": {
    "tags": []
   },
   "outputs": [
    {
     "name": "stdout",
     "output_type": "stream",
     "text": [
      "1-800-271-82812\n"
     ]
    }
   ],
   "source": [
    "print(newNumber)"
   ]
  },
  {
   "cell_type": "code",
   "execution_count": 79,
   "id": "3b9671b1-f56a-4946-ab45-29a508658f5d",
   "metadata": {
    "tags": []
   },
   "outputs": [],
   "source": [
    "newNumber = \"**\".join(numList)"
   ]
  },
  {
   "cell_type": "code",
   "execution_count": 80,
   "id": "80b42456-9fa0-459f-97cf-f28a40873b2e",
   "metadata": {
    "tags": []
   },
   "outputs": [
    {
     "name": "stdout",
     "output_type": "stream",
     "text": [
      "1**800**271**82812\n"
     ]
    }
   ],
   "source": [
    "print(newNumber)"
   ]
  },
  {
   "cell_type": "code",
   "execution_count": null,
   "id": "9a66f8cb-4077-49c4-b745-daf2284f1f42",
   "metadata": {},
   "outputs": [],
   "source": []
  }
 ],
 "metadata": {
  "kernelspec": {
   "display_name": "Python 3 (ipykernel)",
   "language": "python",
   "name": "python3"
  },
  "language_info": {
   "codemirror_mode": {
    "name": "ipython",
    "version": 3
   },
   "file_extension": ".py",
   "mimetype": "text/x-python",
   "name": "python",
   "nbconvert_exporter": "python",
   "pygments_lexer": "ipython3",
   "version": "3.11.5"
  }
 },
 "nbformat": 4,
 "nbformat_minor": 5
}
