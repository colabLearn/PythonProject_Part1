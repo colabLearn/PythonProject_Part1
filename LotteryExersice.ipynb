{
 "cells": [
  {
   "cell_type": "markdown",
   "id": "17da95fe-cfd4-4d1c-b5b0-0945ed9ebfc8",
   "metadata": {},
   "source": [
    "## We will write a lottery game program.\n",
    "## In this lottery game, six random numbers between 1 and 50 are selected by the lottery system. \n",
    "## Each user submits their guess for these six lottery numbers. \n",
    "## If fewer than two users' guesses match all six of the winning lottery numbers, the user wins £0. \n",
    "## If two of the user's numbers match the winning numbers, the player wins £100. \n",
    "## If three numbers match, the player wins £500. Matching four numbers results in a win of £1000. \n",
    "## Five matching numbers win the player £10000. \n",
    "## If all six of the user's guesses match the winning numbers, the player wins the jackpot, which is £1000000."
   ]
  },
  {
   "cell_type": "code",
   "execution_count": 15,
   "id": "4bba841c-6cfa-4107-b74f-2a11bd835404",
   "metadata": {
    "tags": []
   },
   "outputs": [],
   "source": [
    "#Import random module to generate radom integer\n",
    "import random"
   ]
  },
  {
   "cell_type": "markdown",
   "id": "4628e47a-861c-45b5-a3dc-113f36d8395b",
   "metadata": {},
   "source": [
    "### In the next cell we generate the 6 lucky lottery number\n",
    "### and we store these in the list luckyNumbers."
   ]
  },
  {
   "cell_type": "code",
   "execution_count": 16,
   "id": "b75c91aa-b94f-4dd0-aae9-cf5f49dd4de2",
   "metadata": {
    "tags": []
   },
   "outputs": [
    {
     "name": "stdout",
     "output_type": "stream",
     "text": [
      "[2, 33, 28, 35, 42, 41]\n"
     ]
    }
   ],
   "source": [
    "# Declare an empty list to store the system generated lucky number\n",
    "luckyNumbers = []\n",
    "#while loop continues until the length of the luckyNumbers list is 6\n",
    "while len(luckyNumbers)<6:\n",
    "    #Generate a random integer between 1 - 50\n",
    "    luckyNum = random.randint(1,50)\n",
    "    \n",
    "    #Check if the number genereated is not already in the luckyNumbers list\n",
    "    if luckyNum not in luckyNumbers:\n",
    "        #if is it not there, append the luckyNum into the list\n",
    "        luckyNumbers.append(luckyNum)\n",
    "    #If the number is already in the list, do nothing.\n",
    "    #If nothing is done, the luckyNumber list is not increased and the loop continues again\n",
    "\n",
    "#Print luckyNumberList to see what are the 6 lucky numbersGenerated\n",
    "print(luckyNumbers)"
   ]
  },
  {
   "cell_type": "markdown",
   "id": "94b842d8-ea8b-413f-9f76-7c34ede03a27",
   "metadata": {},
   "source": [
    "### In the next cell we create a list that will contain the player entries\n",
    "### Then we prompt the user for each lucky number, \n",
    "### We test if the number is between 1 - 50\n",
    "### We also test to ensure user does not enter the same guess twice"
   ]
  },
  {
   "cell_type": "code",
   "execution_count": 17,
   "id": "8b2fec43-1d78-4b41-81d3-8564dbd1775b",
   "metadata": {
    "tags": []
   },
   "outputs": [
    {
     "name": "stdin",
     "output_type": "stream",
     "text": [
      "Please enter your integer guess number 1 23\n",
      "Please enter your integer guess number 2 14\n",
      "Please enter your integer guess number 3 28\n",
      "Please enter your integer guess number 4 19\n",
      "Please enter your integer guess number 5 99\n"
     ]
    },
    {
     "name": "stdout",
     "output_type": "stream",
     "text": [
      "Invalid number, your guess number should be postive interger between 1 - 50\n"
     ]
    },
    {
     "name": "stdin",
     "output_type": "stream",
     "text": [
      "Please try again! Enter your integer guess number 5 65\n"
     ]
    },
    {
     "name": "stdout",
     "output_type": "stream",
     "text": [
      "Invalid number, your guess number should be postive interger between 1 - 50\n"
     ]
    },
    {
     "name": "stdin",
     "output_type": "stream",
     "text": [
      "Please try again! Enter your integer guess number 5 35\n",
      "Please enter your integer guess number 6 41\n"
     ]
    },
    {
     "name": "stdout",
     "output_type": "stream",
     "text": [
      "[23, 14, 28, 19, 35, 41]\n"
     ]
    }
   ],
   "source": [
    "#### Declare list to contain the player enteries,playerEntries.\n",
    "playerEntries = []\n",
    "\n",
    "#While the length of the playerEntries list is less than 6\n",
    "while len(playerEntries)<6:\n",
    "    # We prompt the player for each of their 6 guess entries\n",
    "    playerGuess = int(input(\"Please enter your integer guess number \" +str(len(playerEntries)+1)))\n",
    "    \n",
    "    #Second while loop test to ensure that entries is within the range, 1- 50\n",
    "    while(playerGuess<1 or playerGuess>50):\n",
    "        #if the entry is outside the range, the while loop iterate to prompt the user for correct input\n",
    "        print(\"Invalid number, your guess number should be postive interger between 1 - 50\")\n",
    "        playerGuess= int(input(\"Please try again! Enter your integer guess number \" + str(len(playerEntries)+1)))\n",
    "    \n",
    "    #If the input the correct integer range, we check if it is already in the list\n",
    "    if playerGuess  in playerEntries:\n",
    "        #If the current user guess is already in the list\n",
    "        #we prompt the user and ask them to enter another number\n",
    "        print(\"You have entered this number earlier, please make another number guess\")\n",
    "        #The program does nothing else in this if block, thus keep the playerEntries length the same\n",
    "    else:\n",
    "        #The the current user guess is not in the list\n",
    "        #The guess is appended to the list\n",
    "        playerEntries.append(playerGuess)\n",
    "    \n",
    "print(playerEntries)"
   ]
  },
  {
   "cell_type": "markdown",
   "id": "b3fe303b-de8e-4108-a30b-22993a1cd689",
   "metadata": {},
   "source": [
    "### The code above take player guesses and enter into playerEntries list\n",
    "### However, we do not consider user wrong input of non-integer\n",
    "### If the useer enter value that is not an integer, the program terminates abruptly\n",
    "### This is not something you want your program to do. \n",
    "### Code in the next cell does the same as the one above, but now gracefully captures\n",
    "### wrong non-integer input and prompt user for a valid imput"
   ]
  },
  {
   "cell_type": "code",
   "execution_count": 18,
   "id": "b67297c0-08b7-4754-8d3f-ae2c534addba",
   "metadata": {
    "tags": []
   },
   "outputs": [
    {
     "name": "stdin",
     "output_type": "stream",
     "text": [
      "Please enter your integer guess number 1 t\n"
     ]
    },
    {
     "name": "stdout",
     "output_type": "stream",
     "text": [
      "Invalid input. Pleae enter integer between 1 - 50.\n"
     ]
    },
    {
     "name": "stdin",
     "output_type": "stream",
     "text": [
      "Please enter your integer guess number 1 28\n",
      "Please enter your integer guess number 2 34\n",
      "Please enter your integer guess number 3 78\n"
     ]
    },
    {
     "name": "stdout",
     "output_type": "stream",
     "text": [
      "Invalid number, your guess number should be postive integer between 1 - 50\n"
     ]
    },
    {
     "name": "stdin",
     "output_type": "stream",
     "text": [
      "Please try again! Enter your integer guess number 3 35\n",
      "Please enter your integer guess number 4 12\n",
      "Please enter your integer guess number 5 41\n",
      "Please enter your integer guess number 6 35\n"
     ]
    },
    {
     "name": "stdout",
     "output_type": "stream",
     "text": [
      "You have entered this number earlier, please make another number guess\n"
     ]
    },
    {
     "name": "stdin",
     "output_type": "stream",
     "text": [
      "Please enter your integer guess number 6 17\n"
     ]
    },
    {
     "name": "stdout",
     "output_type": "stream",
     "text": [
      "[28, 34, 35, 12, 41, 17]\n"
     ]
    }
   ],
   "source": [
    "playerEntries = []\n",
    "while len(playerEntries) <6:\n",
    "    \n",
    "    #This while loop ensure that user enters an integer\n",
    "    while True:\n",
    "        try:\n",
    "            guess = input(\"Please enter your integer guess number \" + str(len(playerEntries)+1))\n",
    "            playerGuess = int(guess)\n",
    "            \n",
    "            ## This while loop test and prompt the user until they enter valid integer range between 1 -50\n",
    "            while(playerGuess<1 or playerGuess>50):\n",
    "                print(\"Invalid number, your guess number should be postive integer between 1 - 50\")\n",
    "                playerGuess= int(input(\"Please try again! Enter your integer guess number \" + str(len(playerEntries)+1)))\n",
    "            \n",
    "            break;\n",
    "        except ValueError:\n",
    "            ## if the entry is not a valid integer prompt the user and continue with while loop\n",
    "            ## to get user guess\n",
    "            print(\"Invalid input. Pleae enter integer between 1 - 50.\")\n",
    "    if(playerGuess in playerEntries):\n",
    "        # if it is already in, prompt user to enter another number as\n",
    "        # they need to enter 6 unique numbers\n",
    "        print(\"You have entered this number earlier, please make another number guess\")\n",
    "    else:\n",
    "        #if gues is valid and not in the list alread, \n",
    "        # append gues into the list\n",
    "        playerEntries.append(playerGuess)\n",
    "\n",
    "print(playerEntries)       "
   ]
  },
  {
   "cell_type": "markdown",
   "id": "9767bf0d-de5f-473e-b6e9-f9b31bbef8d7",
   "metadata": {},
   "source": [
    "### Next we compare the user enstry  list with lottery numbers generated\n",
    "### This comparison can be done using three approches as in codes cell 32, 33 and 34 below."
   ]
  },
  {
   "cell_type": "code",
   "execution_count": 19,
   "id": "c02bebac-f084-498e-ae8f-8de3955d48f3",
   "metadata": {
    "tags": []
   },
   "outputs": [
    {
     "name": "stdout",
     "output_type": "stream",
     "text": [
      "[28, 35, 41]\n"
     ]
    }
   ],
   "source": [
    "#Approach 1: Using list comprehension\n",
    "matchingList = [num for num in luckyNumbers if num in playerEntries]\n",
    "print(matchingList)"
   ]
  },
  {
   "cell_type": "code",
   "execution_count": 20,
   "id": "fdaec280-28b2-46ca-9702-fa0b5e0c7613",
   "metadata": {
    "tags": []
   },
   "outputs": [
    {
     "name": "stdout",
     "output_type": "stream",
     "text": [
      "[28, 35, 41]\n"
     ]
    }
   ],
   "source": [
    "#Approach 2: comparing using for loot toi iterate one list and check content againt \n",
    "# the second list\n",
    "matchingList2 = []\n",
    "for num in luckyNumbers:\n",
    "    if num in playerEntries:\n",
    "        matchingList2.append(num)\n",
    "print(matchingList2)"
   ]
  },
  {
   "cell_type": "code",
   "execution_count": 21,
   "id": "e8588f44-4ae5-409c-a695-957d7659d3c4",
   "metadata": {
    "tags": []
   },
   "outputs": [
    {
     "name": "stdout",
     "output_type": "stream",
     "text": [
      "[41, 35, 28]\n"
     ]
    }
   ],
   "source": [
    "#Approach number 3: Use set construction python\n",
    "matchingList3 = list(set(luckyNumbers).intersection(playerEntries))\n",
    "\n",
    "print(matchingList3)"
   ]
  },
  {
   "cell_type": "markdown",
   "id": "c3fe33ca-5618-405f-afe5-f2caf985adeb",
   "metadata": {},
   "source": [
    "### Next we assign the length of the matchingList list to a variable\n",
    "### This gives us the number of matching guess by user and the amount won"
   ]
  },
  {
   "cell_type": "code",
   "execution_count": 22,
   "id": "5b9ca3fb-7e2e-4a24-b4f0-6375a694ddca",
   "metadata": {
    "tags": []
   },
   "outputs": [
    {
     "name": "stdout",
     "output_type": "stream",
     "text": [
      "3\n"
     ]
    }
   ],
   "source": [
    "numberMatches = len(matchingList)\n",
    "print(numberMatches)"
   ]
  },
  {
   "cell_type": "markdown",
   "id": "c92bfe67-7783-4c3c-aea3-6ac2d83ed87c",
   "metadata": {},
   "source": [
    "### Next, we determine what user win based on the description of the lottery game "
   ]
  },
  {
   "cell_type": "code",
   "execution_count": 23,
   "id": "04d6b7d6-d576-4959-899b-a681337e0565",
   "metadata": {
    "tags": []
   },
   "outputs": [
    {
     "name": "stdout",
     "output_type": "stream",
     "text": [
      "Number of matches are 3. You win £500\n",
      "Matching numbers are:  [28, 35, 41]\n"
     ]
    }
   ],
   "source": [
    "if(numberMatches<2):\n",
    "    print(\"Number of matches is:  \", numOfMatches, \"This is less than 2. You win £0\")\n",
    "    print(\"Matching numbers are: \", matchingList)\n",
    "if(numberMatches==2):\n",
    "    print(\"Number of matches are 2. You win £100\")\n",
    "    print(\"Matching numbers are: \", matchingList)\n",
    "if(numberMatches==3):\n",
    "    print(\"Number of matches are 3. You win £500\")\n",
    "    print(\"Matching numbers are: \", matchingList)\n",
    "if(numberMatches==4):\n",
    "    print(\"Number of matches are 4. You win £1000\")\n",
    "    print(\"Matching numbers are: \", matchingList)\n",
    "if(numberMatches==5):\n",
    "    print(\"Number of matches are 5.  You win £10000\")\n",
    "    print(\"Matching numbers are \", matchingList)\n",
    "if(numberMatches==6):\n",
    "    print(\"Number of matches are 6!!! A Jackpot !!! Congratulations, you win £1000000\")\n",
    "    print(\"Matching numbers are: \", matchingList)"
   ]
  },
  {
   "cell_type": "code",
   "execution_count": null,
   "id": "3312f106-4b1a-482c-9d62-540c11acedb1",
   "metadata": {},
   "outputs": [],
   "source": []
  }
 ],
 "metadata": {
  "kernelspec": {
   "display_name": "Python 3 (ipykernel)",
   "language": "python",
   "name": "python3"
  },
  "language_info": {
   "codemirror_mode": {
    "name": "ipython",
    "version": 3
   },
   "file_extension": ".py",
   "mimetype": "text/x-python",
   "name": "python",
   "nbconvert_exporter": "python",
   "pygments_lexer": "ipython3",
   "version": "3.11.5"
  }
 },
 "nbformat": 4,
 "nbformat_minor": 5
}
