{
 "cells": [
  {
   "cell_type": "code",
   "execution_count": null,
   "id": "0ea6a2dc-ed67-4791-b957-139c0dece015",
   "metadata": {
    "tags": []
   },
   "outputs": [
    {
     "name": "stdout",
     "output_type": "stream",
     "text": [
      "26\n"
     ]
    },
    {
     "name": "stdin",
     "output_type": "stream",
     "text": [
      "Please guess the integer value, between 1 -50. You have 10 guesses remaining :  t\n"
     ]
    },
    {
     "name": "stdout",
     "output_type": "stream",
     "text": [
      "Invalid input: Please enter an integer. \n"
     ]
    }
   ],
   "source": [
    "#input validation \n",
    "import random\n",
    "\n",
    "randnum3 = random.randint(1, 50)\n",
    "print(randnum3)\n",
    "count = 1\n",
    "maxGuess = 10\n",
    "message = \"You win!\"\n",
    "while True:\n",
    "    guess = input(\"Please guess the integer value, between 1 -50. You have \" + str(maxGuess) + \" guesses remaining : \")\n",
    "    try:\n",
    "        userGuess = int(guess)\n",
    "        if(userGuess<1 or userGuess>50):\n",
    "            raise ValueError(\"Invalid Input: Please enter number between 1-50\")\n",
    "    except ValueError as e:\n",
    "        if not guess.isdigit():\n",
    "            print(\"Invalid input: Please enter an integer. \")\n",
    "        else:\n",
    "            print(\"Invalid input: Please enter number between 1-50.\")\n",
    "        \n",
    "        continue\n",
    "    if userGuess==randnum3:\n",
    "        break\n",
    "    elif count==10:\n",
    "        message = \"You loose!\"\n",
    "        break\n",
    "    else:\n",
    "        count += 1\n",
    "        maxGuess-=1\n",
    "\n",
    "print(message, \" The lucky number is\", randnum3)"
   ]
  },
  {
   "cell_type": "code",
   "execution_count": null,
   "id": "cbdf89b2-9aad-4fd2-bee3-48dd4f5bb9a4",
   "metadata": {},
   "outputs": [],
   "source": []
  }
 ],
 "metadata": {
  "kernelspec": {
   "display_name": "Python 3 (ipykernel)",
   "language": "python",
   "name": "python3"
  },
  "language_info": {
   "codemirror_mode": {
    "name": "ipython",
    "version": 3
   },
   "file_extension": ".py",
   "mimetype": "text/x-python",
   "name": "python",
   "nbconvert_exporter": "python",
   "pygments_lexer": "ipython3",
   "version": "3.11.5"
  }
 },
 "nbformat": 4,
 "nbformat_minor": 5
}
