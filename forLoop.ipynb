{
 "cells": [
  {
   "cell_type": "markdown",
   "id": "21c1f964-ecd6-4898-819d-4b60e4706b02",
   "metadata": {},
   "source": [
    "# Quick mention on Variable --> Variable names\n",
    "# There are just a couple of rules to follow when naming your variables\n",
    "##  Variable names can contain letter, numbers, and underscore\n",
    "##  Variable names cannot contain spaces.\n",
    "## Variable names cannot start with a number\n",
    "## Case matters -- `myNumber` is difference from `mynumber`"
   ]
  },
  {
   "cell_type": "markdown",
   "id": "d976731b-8880-4171-bb41-fea83395efc8",
   "metadata": {},
   "source": [
    "# For loop"
   ]
  },
  {
   "cell_type": "code",
   "execution_count": 33,
   "id": "d0827402-fd0b-42b9-b4cf-46f46dc78041",
   "metadata": {},
   "outputs": [
    {
     "name": "stdout",
     "output_type": "stream",
     "text": [
      "1 -----Hello\n",
      "2 -----Hello\n",
      "3 -----Hello\n"
     ]
    }
   ],
   "source": [
    "for num in range(1,4):\n",
    "    print(num, \"-----Hello\")"
   ]
  },
  {
   "cell_type": "code",
   "execution_count": 31,
   "id": "ee9889a1-1372-4b98-a580-cb346e05b3bb",
   "metadata": {},
   "outputs": [
    {
     "name": "stdout",
     "output_type": "stream",
     "text": [
      "***\n"
     ]
    }
   ],
   "source": [
    "#range(10)    1,2,3,4,5,6,7,8,9,11\n",
    "#rang(1, 11)"
   ]
  },
  {
   "cell_type": "code",
   "execution_count": null,
   "id": "b0b5e36d-2800-4724-8dba-d194ca4f2d4f",
   "metadata": {},
   "outputs": [],
   "source": []
  }
 ],
 "metadata": {
  "kernelspec": {
   "display_name": "Python 3 (ipykernel)",
   "language": "python",
   "name": "python3"
  },
  "language_info": {
   "codemirror_mode": {
    "name": "ipython",
    "version": 3
   },
   "file_extension": ".py",
   "mimetype": "text/x-python",
   "name": "python",
   "nbconvert_exporter": "python",
   "pygments_lexer": "ipython3",
   "version": "3.11.4"
  }
 },
 "nbformat": 4,
 "nbformat_minor": 5
}
