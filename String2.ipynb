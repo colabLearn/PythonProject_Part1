{
 "cells": [
  {
   "cell_type": "markdown",
   "id": "cb591717-ebc6-4cbf-9b9d-3f968bb10a9a",
   "metadata": {},
   "source": [
    "# String methods"
   ]
  },
  {
   "cell_type": "code",
   "execution_count": 47,
   "id": "f97196e2-86ee-4b7b-8a70-b0543c0702a2",
   "metadata": {},
   "outputs": [
    {
     "name": "stdout",
     "output_type": "stream",
     "text": [
      "scotland\n",
      "SCOTLAND\n",
      "England\n",
      "1\n",
      "1\n",
      "True\n"
     ]
    }
   ],
   "source": [
    "s = 'Scotland'\n",
    "print(s.lower()) #This method converts the original string to lower case\n",
    "print(s.upper()) # This returns the original string capitalized\n",
    "print(s.replace('Scot','Eng'))  #This return original string part in the first argument being replace by the second argument to the method\n",
    "print(s.count('a')) #returns the nubmer of occurence of the letter in the argument 'a' in the string s\n",
    "print(s.index('c')) #retruns the index of the first occurrence of the letter in the argument\n",
    "print(s.isalpha()) #returns true of all the characters in the string is a letter"
   ]
  },
  {
   "cell_type": "code",
   "execution_count": 52,
   "id": "7b690ea6-dc26-49b5-9a15-541313d480c9",
   "metadata": {},
   "outputs": [],
   "source": [
    "s = s.upper()"
   ]
  },
  {
   "cell_type": "code",
   "execution_count": 53,
   "id": "86738245-b76b-4f5e-ad79-7bd28e1dba5c",
   "metadata": {},
   "outputs": [
    {
     "name": "stdout",
     "output_type": "stream",
     "text": [
      "SCOTLAND\n"
     ]
    }
   ],
   "source": [
    "print(s)"
   ]
  },
  {
   "cell_type": "code",
   "execution_count": 55,
   "id": "f0c6993b-33d5-43b8-8b1b-cda18175837f",
   "metadata": {},
   "outputs": [
    {
     "name": "stdin",
     "output_type": "stream",
     "text": [
      "Please enter a word:  JOHN BRUCE\n"
     ]
    },
    {
     "name": "stdout",
     "output_type": "stream",
     "text": [
      "Number of vowels in the entry is:  0\n",
      "The vowels are:  \n"
     ]
    }
   ],
   "source": [
    "# Get vowels in the user entered word\n",
    "t = ''\n",
    "entry = input('Please enter a word: ')\n",
    "count = 0\n",
    "for i in (entry.lower()):\n",
    "    \n",
    "    if i=='e' or i=='o' or i=='a' or i=='u':\n",
    "        t = t+i\n",
    "        count = count+1\n",
    "\n",
    "print('Number of vowels in the entry is: ', count)\n",
    "print('The vowels are: ', t)"
   ]
  },
  {
   "cell_type": "code",
   "execution_count": 25,
   "id": "afa6443c-464c-447c-8665-3d759a6af990",
   "metadata": {},
   "outputs": [],
   "source": []
  },
  {
   "cell_type": "code",
   "execution_count": 26,
   "id": "d00da6d7-af41-4f8d-8586-347aba361418",
   "metadata": {},
   "outputs": [
    {
     "name": "stdout",
     "output_type": "stream",
     "text": [
      "John\n"
     ]
    }
   ],
   "source": [
    "print(s2.capitalize())"
   ]
  },
  {
   "cell_type": "code",
   "execution_count": 27,
   "id": "1775718f-7e1a-463e-b960-653ab4672329",
   "metadata": {},
   "outputs": [
    {
     "name": "stdout",
     "output_type": "stream",
     "text": [
      "Scotland\n"
     ]
    }
   ],
   "source": [
    "print(s)"
   ]
  },
  {
   "cell_type": "code",
   "execution_count": 32,
   "id": "5a08e47a-5e15-4f46-a0ac-5e2510fe34ff",
   "metadata": {},
   "outputs": [
    {
     "name": "stdin",
     "output_type": "stream",
     "text": [
      "Enter a number:  w345\n"
     ]
    },
    {
     "name": "stdout",
     "output_type": "stream",
     "text": [
      "user enter is not a number\n"
     ]
    }
   ],
   "source": [
    "num = input('Enter a number: ')\n",
    "if (num.isdigit()):\n",
    "    print('user entry is a number')\n",
    "else:\n",
    "    print('user enter is not a number')"
   ]
  },
  {
   "cell_type": "code",
   "execution_count": 38,
   "id": "17fc37f1-559d-494a-990d-501d33940a79",
   "metadata": {},
   "outputs": [],
   "source": [
    "#Escape charcter\n",
    "s = 'This is \"not\" working well'"
   ]
  }
 ],
 "metadata": {
  "kernelspec": {
   "display_name": "Python 3 (ipykernel)",
   "language": "python",
   "name": "python3"
  },
  "language_info": {
   "codemirror_mode": {
    "name": "ipython",
    "version": 3
   },
   "file_extension": ".py",
   "mimetype": "text/x-python",
   "name": "python",
   "nbconvert_exporter": "python",
   "pygments_lexer": "ipython3",
   "version": "3.11.4"
  }
 },
 "nbformat": 4,
 "nbformat_minor": 5
}
