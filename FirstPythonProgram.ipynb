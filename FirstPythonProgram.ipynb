{
 "cells": [
  {
   "cell_type": "markdown",
   "id": "41074021-eef8-46f1-af4e-b1f68ff69040",
   "metadata": {},
   "source": [
    "# The script will prompt user to enter temperature value in Deg. Celsius\n",
    "# The script will then convert the entered value from Deg. Celsius to Kelvin Scale.\n",
    "## tempInKelvin = tempInDegCelsius + 273.15 K"
   ]
  },
  {
   "cell_type": "code",
   "execution_count": 5,
   "id": "f955afec-2cde-4881-bf00-25afca2f3b91",
   "metadata": {},
   "outputs": [
    {
     "name": "stdin",
     "output_type": "stream",
     "text": [
      "Enter temperature in Deg. Celsius 60\n"
     ]
    },
    {
     "name": "stdout",
     "output_type": "stream",
     "text": [
      "Entered temperature converted to Kelvin:  333.15 K\n"
     ]
    }
   ],
   "source": [
    "tempInDeg = eval(input(\"Enter temperature in Deg. Celsius\"))\n",
    "print(\"Entered temperature converted to Kelvin: \", tempInDeg+273.15, \"K\")"
   ]
  },
  {
   "cell_type": "markdown",
   "id": "1cd53d75-fb07-4832-9780-bcd05033fcc3",
   "metadata": {},
   "source": [
    "# input(\"Enter temperature in Deg. Celsius\")\n",
    "# eval (input(\"Enter temperature in Deg. Celsius\"))\n",
    "# tempInDeg = eval (input(\"Enter temperature in Deg. Celsius\"))\n",
    "# print(\"Entered temperature converted to Kelvin: \" , tempInDeg + 273.15, \"K\")\n",
    "# print (\"Whatever you want to print\")"
   ]
  },
  {
   "cell_type": "code",
   "execution_count": 12,
   "id": "525f25c0-4d9d-4c6b-8cc5-244927c21721",
   "metadata": {},
   "outputs": [
    {
     "name": "stdin",
     "output_type": "stream",
     "text": [
      "Enter temperature in Deg. Celsius 56\n"
     ]
    },
    {
     "name": "stdout",
     "output_type": "stream",
     "text": [
      "Entered temperature converted to Kelvin:  329.15 K\n"
     ]
    }
   ],
   "source": [
    "tempInDeg = float(input(\"Enter temperature in Deg. Celsius\"))\n",
    "print(\"Entered temperature converted to Kelvin: \", tempInDeg+273.15, \"K\")"
   ]
  },
  {
   "cell_type": "code",
   "execution_count": 13,
   "id": "570609e4-575f-4e7b-a756-09619d7c57ca",
   "metadata": {},
   "outputs": [
    {
     "name": "stdin",
     "output_type": "stream",
     "text": [
      "Enter temperature in Deg. Celsius 100\n"
     ]
    },
    {
     "ename": "TypeError",
     "evalue": "can only concatenate str (not \"float\") to str",
     "output_type": "error",
     "traceback": [
      "\u001b[1;31m---------------------------------------------------------------------------\u001b[0m",
      "\u001b[1;31mTypeError\u001b[0m                                 Traceback (most recent call last)",
      "Cell \u001b[1;32mIn[13], line 2\u001b[0m\n\u001b[0;32m      1\u001b[0m tempInDeg \u001b[38;5;241m=\u001b[39m \u001b[38;5;28minput\u001b[39m(\u001b[38;5;124m\"\u001b[39m\u001b[38;5;124mEnter temperature in Deg. Celsius\u001b[39m\u001b[38;5;124m\"\u001b[39m)\n\u001b[1;32m----> 2\u001b[0m \u001b[38;5;28mprint\u001b[39m(\u001b[38;5;124m\"\u001b[39m\u001b[38;5;124mEntered temperature converted to Kelvin: \u001b[39m\u001b[38;5;124m\"\u001b[39m, \u001b[43mtempInDeg\u001b[49m\u001b[38;5;241;43m+\u001b[39;49m\u001b[38;5;241;43m273.15\u001b[39;49m, \u001b[38;5;124m\"\u001b[39m\u001b[38;5;124mK\u001b[39m\u001b[38;5;124m\"\u001b[39m)\n",
      "\u001b[1;31mTypeError\u001b[0m: can only concatenate str (not \"float\") to str"
     ]
    }
   ],
   "source": [
    "tempInDeg = input(\"Enter temperature in Deg. Celsius\")\n",
    "print(\"Entered temperature converted to Kelvin: \", tempInDeg+273.15, \"K\")"
   ]
  },
  {
   "cell_type": "code",
   "execution_count": null,
   "id": "c81703ae-d03c-4010-a75f-659c64ca893d",
   "metadata": {},
   "outputs": [],
   "source": []
  }
 ],
 "metadata": {
  "kernelspec": {
   "display_name": "Python 3 (ipykernel)",
   "language": "python",
   "name": "python3"
  },
  "language_info": {
   "codemirror_mode": {
    "name": "ipython",
    "version": 3
   },
   "file_extension": ".py",
   "mimetype": "text/x-python",
   "name": "python",
   "nbconvert_exporter": "python",
   "pygments_lexer": "ipython3",
   "version": "3.11.4"
  }
 },
 "nbformat": 4,
 "nbformat_minor": 5
}
